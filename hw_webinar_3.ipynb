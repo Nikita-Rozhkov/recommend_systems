{
 "cells": [
  {
   "cell_type": "markdown",
   "metadata": {
    "id": "y-NKXfLpIHyS"
   },
   "source": [
    "# Вебинар 3. Коллаборативная фильтрация"
   ]
  },
  {
   "cell_type": "markdown",
   "metadata": {
    "id": "2wqsdRrTIHyc"
   },
   "source": [
    "Исчерпывающую информацию с теорией, кодом и примерами можно найти в [статье](https://www.ethanrosenthal.com/2016/10/19/implicit-mf-part-1/)"
   ]
  },
  {
   "cell_type": "markdown",
   "metadata": {
    "id": "6ovfF6vdIHyd"
   },
   "source": [
    "# 1. Матричная факторизация"
   ]
  },
  {
   "cell_type": "markdown",
   "metadata": {
    "id": "PvC1iGQgIHyd"
   },
   "source": [
    "Раскладываем user-item матрицу на 2: матрицу латентных факторов юзеров и матрицу латентных факторов товаров\n",
    "\n",
    "- латентый фактор = эмбеддинг (embedding)    "
   ]
  },
  {
   "cell_type": "markdown",
   "metadata": {
    "id": "6TAuWYOrIHye"
   },
   "source": [
    "<img src='mf.png'>"
   ]
  },
  {
   "cell_type": "code",
   "execution_count": 2,
   "metadata": {},
   "outputs": [],
   "source": [
    "#(UхI) = (Uхk) * (kхI)"
   ]
  },
  {
   "cell_type": "markdown",
   "metadata": {
    "id": "wJxPaKgQIHyf"
   },
   "source": [
    "---"
   ]
  },
  {
   "attachments": {
    "image.png": {
     "image/png": "[encoded data removed]"
    }
   },
   "cell_type": "markdown",
   "metadata": {},
   "source": [
    "![image.png](attachment:image.png)"
   ]
  },
  {
   "cell_type": "markdown",
   "metadata": {
    "id": "_boxK1R8IHyf"
   },
   "source": [
    "## Alternating Least Squares (ALS)"
   ]
  },
  {
   "cell_type": "markdown",
   "metadata": {},
   "source": [
    "<img src=\"als_formula.png\" >"
   ]
  },
  {
   "cell_type": "markdown",
   "metadata": {
    "id": "v5JZh2OlIHyg"
   },
   "source": [
    "$x_u^T$ - user embeddings  \n",
    "$y_i$ - item embeddings  \n",
    "$p_{ui}$ - 0/1. 1 - если в матрице user-item эдемент > 0 (было взаимодействие)  \n",
    "$c_{ui}$ - Вес ошибки = элемент матрицы user-item  \n",
    "$\\lambda_x$, $\\lambda_y$ - коэффициенты регуляризации  "
   ]
  },
  {
   "cell_type": "markdown",
   "metadata": {
    "id": "fMy8aBzGIHyg"
   },
   "source": [
    "**Алгоритм**  \n",
    "ALS - лишь способ оптимизации (поиска коэффициентов в эмбеддингах):  \n",
    "\n",
    "1. Фиксируем эмбеддинги юзеров $x_u^T$ --> легко посчитать производную по эмбеддингам товаров $y_i$\n",
    "2. Обновляем эмбеддинги товаров (делаем шаг по антиградиенту = градиентный спуск)\n",
    "3. Фиксируем эмбеддинги товаров $y_i$ --> легко посчитать производную по эмбеддингам юзеров $x_u^T$\n",
    "4. Обновляем эмбеддинги юзеров (делаем шаг по антиградиенту = градиентный спуск)\n",
    "5. Повторяем, пока процедура не сойдется"
   ]
  },
  {
   "cell_type": "markdown",
   "metadata": {
    "id": "7BIbRcukIHyh"
   },
   "source": [
    "**Плюсы**\n",
    "- Очень быстрый\n",
    "- В продакшене можно зафиксировать на весь день эмбеддинги товаров (товары за день не меняются), \n",
    "    и в реал-тайм обновлять эмбеддинги юзеров при покупке\n",
    "- Есть регуляризация $\\lambda_x$, $\\lambda_y$\n",
    "- Есть веса ошибок $с_{u_i}$ - элементы матрицы user-item\n",
    "- Библиотека implicit под капотом использует Cyton - очень быстро работает\n",
    "- Predict для *всех* юзеров можно сделать просто перемножением 2-ух матриц - очень быстро\n",
    "- Можно применять различные **взвешивания** матрицы: TF-IDF, BM25, ... . Это сильно улучшает качество"
   ]
  },
  {
   "cell_type": "markdown",
   "metadata": {
    "id": "XvVWxLAcIHyh"
   },
   "source": [
    "### 1. Базовое применение"
   ]
  },
  {
   "cell_type": "code",
   "execution_count": 3,
   "metadata": {
    "id": "gdbpCE-gIHyi"
   },
   "outputs": [],
   "source": [
    "import pandas as pd\n",
    "import numpy as np\n",
    "import matplotlib.pyplot as plt\n",
    "%matplotlib inline\n",
    "\n",
    "# Для работы с матрицами\n",
    "from scipy.sparse import csr_matrix\n",
    "\n",
    "# Матричная факторизация\n",
    "from implicit.als import AlternatingLeastSquares\n",
    "from implicit.nearest_neighbours import bm25_weight, tfidf_weight\n",
    "\n",
    "# Функции из 1-ого вебинара\n",
    "import os, sys\n",
    "\n",
    "module_path = os.path.abspath(os.path.join(os.pardir))\n",
    "if module_path not in sys.path:\n",
    "    sys.path.append(module_path)\n",
    "    \n",
    "from metrics import precision_at_k, recall_at_k"
   ]
  },
  {
   "cell_type": "code",
   "execution_count": 4,
   "metadata": {
    "id": "2IhaU8JDIHyi",
    "outputId": "a3a22636-04a2-4ad4-9774-e0c5cbcd6a09"
   },
   "outputs": [
    {
     "data": {
      "text/html": [
       "<div>\n",
       "<style scoped>\n",
       "    .dataframe tbody tr th:only-of-type {\n",
       "        vertical-align: middle;\n",
       "    }\n",
       "\n",
       "    .dataframe tbody tr th {\n",
       "        vertical-align: top;\n",
       "    }\n",
       "\n",
       "    .dataframe thead th {\n",
       "        text-align: right;\n",
       "    }\n",
       "</style>\n",
       "<table border=\"1\" class=\"dataframe\">\n",
       "  <thead>\n",
       "    <tr style=\"text-align: right;\">\n",
       "      <th></th>\n",
       "      <th>user_id</th>\n",
       "      <th>basket_id</th>\n",
       "      <th>day</th>\n",
       "      <th>item_id</th>\n",
       "      <th>quantity</th>\n",
       "      <th>sales_value</th>\n",
       "      <th>store_id</th>\n",
       "      <th>retail_disc</th>\n",
       "      <th>trans_time</th>\n",
       "      <th>week_no</th>\n",
       "      <th>coupon_disc</th>\n",
       "      <th>coupon_match_disc</th>\n",
       "    </tr>\n",
       "  </thead>\n",
       "  <tbody>\n",
       "    <tr>\n",
       "      <th>0</th>\n",
       "      <td>2375</td>\n",
       "      <td>26984851472</td>\n",
       "      <td>1</td>\n",
       "      <td>1004906</td>\n",
       "      <td>1</td>\n",
       "      <td>1.39</td>\n",
       "      <td>364</td>\n",
       "      <td>-0.60</td>\n",
       "      <td>1631</td>\n",
       "      <td>1</td>\n",
       "      <td>0.0</td>\n",
       "      <td>0.0</td>\n",
       "    </tr>\n",
       "    <tr>\n",
       "      <th>1</th>\n",
       "      <td>2375</td>\n",
       "      <td>26984851472</td>\n",
       "      <td>1</td>\n",
       "      <td>1033142</td>\n",
       "      <td>1</td>\n",
       "      <td>0.82</td>\n",
       "      <td>364</td>\n",
       "      <td>0.00</td>\n",
       "      <td>1631</td>\n",
       "      <td>1</td>\n",
       "      <td>0.0</td>\n",
       "      <td>0.0</td>\n",
       "    </tr>\n",
       "    <tr>\n",
       "      <th>2</th>\n",
       "      <td>2375</td>\n",
       "      <td>26984851472</td>\n",
       "      <td>1</td>\n",
       "      <td>1036325</td>\n",
       "      <td>1</td>\n",
       "      <td>0.99</td>\n",
       "      <td>364</td>\n",
       "      <td>-0.30</td>\n",
       "      <td>1631</td>\n",
       "      <td>1</td>\n",
       "      <td>0.0</td>\n",
       "      <td>0.0</td>\n",
       "    </tr>\n",
       "    <tr>\n",
       "      <th>3</th>\n",
       "      <td>2375</td>\n",
       "      <td>26984851472</td>\n",
       "      <td>1</td>\n",
       "      <td>1082185</td>\n",
       "      <td>1</td>\n",
       "      <td>1.21</td>\n",
       "      <td>364</td>\n",
       "      <td>0.00</td>\n",
       "      <td>1631</td>\n",
       "      <td>1</td>\n",
       "      <td>0.0</td>\n",
       "      <td>0.0</td>\n",
       "    </tr>\n",
       "    <tr>\n",
       "      <th>4</th>\n",
       "      <td>2375</td>\n",
       "      <td>26984851472</td>\n",
       "      <td>1</td>\n",
       "      <td>8160430</td>\n",
       "      <td>1</td>\n",
       "      <td>1.50</td>\n",
       "      <td>364</td>\n",
       "      <td>-0.39</td>\n",
       "      <td>1631</td>\n",
       "      <td>1</td>\n",
       "      <td>0.0</td>\n",
       "      <td>0.0</td>\n",
       "    </tr>\n",
       "    <tr>\n",
       "      <th>5</th>\n",
       "      <td>2375</td>\n",
       "      <td>26984851516</td>\n",
       "      <td>1</td>\n",
       "      <td>826249</td>\n",
       "      <td>2</td>\n",
       "      <td>1.98</td>\n",
       "      <td>364</td>\n",
       "      <td>-0.60</td>\n",
       "      <td>1642</td>\n",
       "      <td>1</td>\n",
       "      <td>0.0</td>\n",
       "      <td>0.0</td>\n",
       "    </tr>\n",
       "    <tr>\n",
       "      <th>6</th>\n",
       "      <td>2375</td>\n",
       "      <td>26984851516</td>\n",
       "      <td>1</td>\n",
       "      <td>1043142</td>\n",
       "      <td>1</td>\n",
       "      <td>1.57</td>\n",
       "      <td>364</td>\n",
       "      <td>-0.68</td>\n",
       "      <td>1642</td>\n",
       "      <td>1</td>\n",
       "      <td>0.0</td>\n",
       "      <td>0.0</td>\n",
       "    </tr>\n",
       "    <tr>\n",
       "      <th>7</th>\n",
       "      <td>2375</td>\n",
       "      <td>26984851516</td>\n",
       "      <td>1</td>\n",
       "      <td>1085983</td>\n",
       "      <td>1</td>\n",
       "      <td>2.99</td>\n",
       "      <td>364</td>\n",
       "      <td>-0.40</td>\n",
       "      <td>1642</td>\n",
       "      <td>1</td>\n",
       "      <td>0.0</td>\n",
       "      <td>0.0</td>\n",
       "    </tr>\n",
       "    <tr>\n",
       "      <th>8</th>\n",
       "      <td>2375</td>\n",
       "      <td>26984851516</td>\n",
       "      <td>1</td>\n",
       "      <td>1102651</td>\n",
       "      <td>1</td>\n",
       "      <td>1.89</td>\n",
       "      <td>364</td>\n",
       "      <td>0.00</td>\n",
       "      <td>1642</td>\n",
       "      <td>1</td>\n",
       "      <td>0.0</td>\n",
       "      <td>0.0</td>\n",
       "    </tr>\n",
       "    <tr>\n",
       "      <th>9</th>\n",
       "      <td>2375</td>\n",
       "      <td>26984851516</td>\n",
       "      <td>1</td>\n",
       "      <td>6423775</td>\n",
       "      <td>1</td>\n",
       "      <td>2.00</td>\n",
       "      <td>364</td>\n",
       "      <td>-0.79</td>\n",
       "      <td>1642</td>\n",
       "      <td>1</td>\n",
       "      <td>0.0</td>\n",
       "      <td>0.0</td>\n",
       "    </tr>\n",
       "  </tbody>\n",
       "</table>\n",
       "</div>"
      ],
      "text/plain": [
       "   user_id    basket_id  day  item_id  quantity  sales_value  store_id  \\\n",
       "0     2375  26984851472    1  1004906         1         1.39       364   \n",
       "1     2375  26984851472    1  1033142         1         0.82       364   \n",
       "2     2375  26984851472    1  1036325         1         0.99       364   \n",
       "3     2375  26984851472    1  1082185         1         1.21       364   \n",
       "4     2375  26984851472    1  8160430         1         1.50       364   \n",
       "5     2375  26984851516    1   826249         2         1.98       364   \n",
       "6     2375  26984851516    1  1043142         1         1.57       364   \n",
       "7     2375  26984851516    1  1085983         1         2.99       364   \n",
       "8     2375  26984851516    1  1102651         1         1.89       364   \n",
       "9     2375  26984851516    1  6423775         1         2.00       364   \n",
       "\n",
       "   retail_disc  trans_time  week_no  coupon_disc  coupon_match_disc  \n",
       "0        -0.60        1631        1          0.0                0.0  \n",
       "1         0.00        1631        1          0.0                0.0  \n",
       "2        -0.30        1631        1          0.0                0.0  \n",
       "3         0.00        1631        1          0.0                0.0  \n",
       "4        -0.39        1631        1          0.0                0.0  \n",
       "5        -0.60        1642        1          0.0                0.0  \n",
       "6        -0.68        1642        1          0.0                0.0  \n",
       "7        -0.40        1642        1          0.0                0.0  \n",
       "8         0.00        1642        1          0.0                0.0  \n",
       "9        -0.79        1642        1          0.0                0.0  "
      ]
     },
     "execution_count": 4,
     "metadata": {},
     "output_type": "execute_result"
    }
   ],
   "source": [
    "data = pd.read_csv('retail_train.csv')\n",
    "\n",
    "data.columns = [col.lower() for col in data.columns]\n",
    "data.rename(columns={'household_key': 'user_id',\n",
    "                    'product_id': 'item_id'},\n",
    "           inplace=True)\n",
    "\n",
    "\n",
    "test_size_weeks = 3\n",
    "\n",
    "data_train = data[data['week_no'] < data['week_no'].max() - test_size_weeks]\n",
    "data_test = data[data['week_no'] >= data['week_no'].max() - test_size_weeks]\n",
    "\n",
    "data_train.head(10)"
   ]
  },
  {
   "cell_type": "code",
   "execution_count": 5,
   "metadata": {
    "id": "2Csvjg-jIHyk",
    "outputId": "75eeddbb-bdc1-401e-bfcf-6a66ae46b3a3"
   },
   "outputs": [
    {
     "data": {
      "text/html": [
       "<div>\n",
       "<style scoped>\n",
       "    .dataframe tbody tr th:only-of-type {\n",
       "        vertical-align: middle;\n",
       "    }\n",
       "\n",
       "    .dataframe tbody tr th {\n",
       "        vertical-align: top;\n",
       "    }\n",
       "\n",
       "    .dataframe thead th {\n",
       "        text-align: right;\n",
       "    }\n",
       "</style>\n",
       "<table border=\"1\" class=\"dataframe\">\n",
       "  <thead>\n",
       "    <tr style=\"text-align: right;\">\n",
       "      <th></th>\n",
       "      <th>item_id</th>\n",
       "      <th>manufacturer</th>\n",
       "      <th>department</th>\n",
       "      <th>brand</th>\n",
       "      <th>commodity_desc</th>\n",
       "      <th>sub_commodity_desc</th>\n",
       "      <th>curr_size_of_product</th>\n",
       "    </tr>\n",
       "  </thead>\n",
       "  <tbody>\n",
       "    <tr>\n",
       "      <th>0</th>\n",
       "      <td>25671</td>\n",
       "      <td>2</td>\n",
       "      <td>GROCERY</td>\n",
       "      <td>National</td>\n",
       "      <td>FRZN ICE</td>\n",
       "      <td>ICE - CRUSHED/CUBED</td>\n",
       "      <td>22 LB</td>\n",
       "    </tr>\n",
       "    <tr>\n",
       "      <th>1</th>\n",
       "      <td>26081</td>\n",
       "      <td>2</td>\n",
       "      <td>MISC. TRANS.</td>\n",
       "      <td>National</td>\n",
       "      <td>NO COMMODITY DESCRIPTION</td>\n",
       "      <td>NO SUBCOMMODITY DESCRIPTION</td>\n",
       "      <td></td>\n",
       "    </tr>\n",
       "  </tbody>\n",
       "</table>\n",
       "</div>"
      ],
      "text/plain": [
       "   item_id  manufacturer    department     brand            commodity_desc  \\\n",
       "0    25671             2       GROCERY  National                  FRZN ICE   \n",
       "1    26081             2  MISC. TRANS.  National  NO COMMODITY DESCRIPTION   \n",
       "\n",
       "            sub_commodity_desc curr_size_of_product  \n",
       "0          ICE - CRUSHED/CUBED                22 LB  \n",
       "1  NO SUBCOMMODITY DESCRIPTION                       "
      ]
     },
     "execution_count": 5,
     "metadata": {},
     "output_type": "execute_result"
    }
   ],
   "source": [
    "item_features = pd.read_csv('product.csv')\n",
    "item_features.columns = [col.lower() for col in item_features.columns]\n",
    "item_features.rename(columns={'product_id': 'item_id'}, inplace=True)\n",
    "\n",
    "item_features.head(2)"
   ]
  },
  {
   "cell_type": "code",
   "execution_count": 6,
   "metadata": {
    "id": "ZQna6TBQIHyk",
    "outputId": "7728607d-5b4d-4ce8-f30f-79072af648d2"
   },
   "outputs": [
    {
     "data": {
      "text/plain": [
       "array(['GROCERY', 'MISC. TRANS.', 'PASTRY', 'DRUG GM', 'MEAT-PCKGD',\n",
       "       'SEAFOOD-PCKGD', 'PRODUCE', 'NUTRITION', 'DELI', 'COSMETICS',\n",
       "       'MEAT', 'FLORAL', 'TRAVEL & LEISUR', 'SEAFOOD', 'MISC SALES TRAN',\n",
       "       'SALAD BAR', 'KIOSK-GAS', 'ELECT &PLUMBING', 'GRO BAKERY',\n",
       "       'GM MERCH EXP', 'FROZEN GROCERY', 'COUP/STR & MFG', 'SPIRITS',\n",
       "       'GARDEN CENTER', 'TOYS', 'CHARITABLE CONT', 'RESTAURANT', 'RX',\n",
       "       'PROD-WHS SALES', 'MEAT-WHSE', 'DAIRY DELI', 'CHEF SHOPPE', 'HBC',\n",
       "       'DELI/SNACK BAR', 'PORK', 'AUTOMOTIVE', 'VIDEO RENTAL', ' ',\n",
       "       'CNTRL/STORE SUP', 'HOUSEWARES', 'POSTAL CENTER', 'PHOTO', 'VIDEO',\n",
       "       'PHARMACY SUPPLY'], dtype=object)"
      ]
     },
     "execution_count": 6,
     "metadata": {},
     "output_type": "execute_result"
    }
   ],
   "source": [
    "item_features.department.unique()"
   ]
  },
  {
   "cell_type": "code",
   "execution_count": 7,
   "metadata": {
    "id": "vBJcGBpTIHyl",
    "outputId": "612dfe1f-286b-4d81-af92-721c6e317b6c"
   },
   "outputs": [
    {
     "data": {
      "text/html": [
       "<div>\n",
       "<style scoped>\n",
       "    .dataframe tbody tr th:only-of-type {\n",
       "        vertical-align: middle;\n",
       "    }\n",
       "\n",
       "    .dataframe tbody tr th {\n",
       "        vertical-align: top;\n",
       "    }\n",
       "\n",
       "    .dataframe thead th {\n",
       "        text-align: right;\n",
       "    }\n",
       "</style>\n",
       "<table border=\"1\" class=\"dataframe\">\n",
       "  <thead>\n",
       "    <tr style=\"text-align: right;\">\n",
       "      <th></th>\n",
       "      <th>user_id</th>\n",
       "      <th>actual</th>\n",
       "    </tr>\n",
       "  </thead>\n",
       "  <tbody>\n",
       "    <tr>\n",
       "      <th>0</th>\n",
       "      <td>1</td>\n",
       "      <td>[821867, 834484, 856942, 865456, 889248, 90795...</td>\n",
       "    </tr>\n",
       "    <tr>\n",
       "      <th>1</th>\n",
       "      <td>3</td>\n",
       "      <td>[835476, 851057, 872021, 878302, 879948, 90963...</td>\n",
       "    </tr>\n",
       "  </tbody>\n",
       "</table>\n",
       "</div>"
      ],
      "text/plain": [
       "   user_id                                             actual\n",
       "0        1  [821867, 834484, 856942, 865456, 889248, 90795...\n",
       "1        3  [835476, 851057, 872021, 878302, 879948, 90963..."
      ]
     },
     "execution_count": 7,
     "metadata": {},
     "output_type": "execute_result"
    }
   ],
   "source": [
    "result = data_test.groupby('user_id')['item_id'].unique().reset_index()\n",
    "result.columns=['user_id', 'actual']\n",
    "result.head(2)"
   ]
  },
  {
   "cell_type": "code",
   "execution_count": 8,
   "metadata": {
    "id": "9dmp1II9IHyl"
   },
   "outputs": [],
   "source": [
    "popularity = data_train.groupby('item_id')['quantity'].sum().reset_index()\n",
    "popularity.rename(columns={'quantity': 'n_sold'}, inplace=True)\n",
    "\n",
    "top_5000 = popularity.sort_values('n_sold', ascending=False).head(5000).item_id.tolist()"
   ]
  },
  {
   "cell_type": "code",
   "execution_count": 9,
   "metadata": {},
   "outputs": [
    {
     "data": {
      "text/html": [
       "<div>\n",
       "<style scoped>\n",
       "    .dataframe tbody tr th:only-of-type {\n",
       "        vertical-align: middle;\n",
       "    }\n",
       "\n",
       "    .dataframe tbody tr th {\n",
       "        vertical-align: top;\n",
       "    }\n",
       "\n",
       "    .dataframe thead th {\n",
       "        text-align: right;\n",
       "    }\n",
       "</style>\n",
       "<table border=\"1\" class=\"dataframe\">\n",
       "  <thead>\n",
       "    <tr style=\"text-align: right;\">\n",
       "      <th></th>\n",
       "      <th>user_id</th>\n",
       "      <th>basket_id</th>\n",
       "      <th>day</th>\n",
       "      <th>item_id</th>\n",
       "      <th>quantity</th>\n",
       "      <th>sales_value</th>\n",
       "      <th>store_id</th>\n",
       "      <th>retail_disc</th>\n",
       "      <th>trans_time</th>\n",
       "      <th>week_no</th>\n",
       "      <th>coupon_disc</th>\n",
       "      <th>coupon_match_disc</th>\n",
       "    </tr>\n",
       "  </thead>\n",
       "  <tbody>\n",
       "    <tr>\n",
       "      <th>0</th>\n",
       "      <td>2375</td>\n",
       "      <td>26984851472</td>\n",
       "      <td>1</td>\n",
       "      <td>1004906</td>\n",
       "      <td>1</td>\n",
       "      <td>1.39</td>\n",
       "      <td>364</td>\n",
       "      <td>-0.60</td>\n",
       "      <td>1631</td>\n",
       "      <td>1</td>\n",
       "      <td>0.0</td>\n",
       "      <td>0.0</td>\n",
       "    </tr>\n",
       "    <tr>\n",
       "      <th>1</th>\n",
       "      <td>2375</td>\n",
       "      <td>26984851472</td>\n",
       "      <td>1</td>\n",
       "      <td>1033142</td>\n",
       "      <td>1</td>\n",
       "      <td>0.82</td>\n",
       "      <td>364</td>\n",
       "      <td>0.00</td>\n",
       "      <td>1631</td>\n",
       "      <td>1</td>\n",
       "      <td>0.0</td>\n",
       "      <td>0.0</td>\n",
       "    </tr>\n",
       "    <tr>\n",
       "      <th>2</th>\n",
       "      <td>2375</td>\n",
       "      <td>26984851472</td>\n",
       "      <td>1</td>\n",
       "      <td>1036325</td>\n",
       "      <td>1</td>\n",
       "      <td>0.99</td>\n",
       "      <td>364</td>\n",
       "      <td>-0.30</td>\n",
       "      <td>1631</td>\n",
       "      <td>1</td>\n",
       "      <td>0.0</td>\n",
       "      <td>0.0</td>\n",
       "    </tr>\n",
       "    <tr>\n",
       "      <th>3</th>\n",
       "      <td>2375</td>\n",
       "      <td>26984851472</td>\n",
       "      <td>1</td>\n",
       "      <td>1082185</td>\n",
       "      <td>1</td>\n",
       "      <td>1.21</td>\n",
       "      <td>364</td>\n",
       "      <td>0.00</td>\n",
       "      <td>1631</td>\n",
       "      <td>1</td>\n",
       "      <td>0.0</td>\n",
       "      <td>0.0</td>\n",
       "    </tr>\n",
       "    <tr>\n",
       "      <th>4</th>\n",
       "      <td>2375</td>\n",
       "      <td>26984851472</td>\n",
       "      <td>1</td>\n",
       "      <td>8160430</td>\n",
       "      <td>1</td>\n",
       "      <td>1.50</td>\n",
       "      <td>364</td>\n",
       "      <td>-0.39</td>\n",
       "      <td>1631</td>\n",
       "      <td>1</td>\n",
       "      <td>0.0</td>\n",
       "      <td>0.0</td>\n",
       "    </tr>\n",
       "  </tbody>\n",
       "</table>\n",
       "</div>"
      ],
      "text/plain": [
       "   user_id    basket_id  day  item_id  quantity  sales_value  store_id  \\\n",
       "0     2375  26984851472    1  1004906         1         1.39       364   \n",
       "1     2375  26984851472    1  1033142         1         0.82       364   \n",
       "2     2375  26984851472    1  1036325         1         0.99       364   \n",
       "3     2375  26984851472    1  1082185         1         1.21       364   \n",
       "4     2375  26984851472    1  8160430         1         1.50       364   \n",
       "\n",
       "   retail_disc  trans_time  week_no  coupon_disc  coupon_match_disc  \n",
       "0        -0.60        1631        1          0.0                0.0  \n",
       "1         0.00        1631        1          0.0                0.0  \n",
       "2        -0.30        1631        1          0.0                0.0  \n",
       "3         0.00        1631        1          0.0                0.0  \n",
       "4        -0.39        1631        1          0.0                0.0  "
      ]
     },
     "execution_count": 9,
     "metadata": {},
     "output_type": "execute_result"
    }
   ],
   "source": [
    "data_train.head(5)"
   ]
  },
  {
   "cell_type": "code",
   "execution_count": 10,
   "metadata": {
    "id": "jvQ8_CJ9IHym",
    "outputId": "ebf07e9a-6f11-4aa9-d43d-98c0055ec42d"
   },
   "outputs": [
    {
     "name": "stderr",
     "output_type": "stream",
     "text": [
      "/home/nikita/.local/lib/python3.8/site-packages/pandas/core/indexing.py:1817: SettingWithCopyWarning: \n",
      "A value is trying to be set on a copy of a slice from a DataFrame.\n",
      "Try using .loc[row_indexer,col_indexer] = value instead\n",
      "\n",
      "See the caveats in the documentation: https://pandas.pydata.org/pandas-docs/stable/user_guide/indexing.html#returning-a-view-versus-a-copy\n",
      "  self._setitem_single_column(loc, value, pi)\n"
     ]
    },
    {
     "data": {
      "text/html": [
       "<div>\n",
       "<style scoped>\n",
       "    .dataframe tbody tr th:only-of-type {\n",
       "        vertical-align: middle;\n",
       "    }\n",
       "\n",
       "    .dataframe tbody tr th {\n",
       "        vertical-align: top;\n",
       "    }\n",
       "\n",
       "    .dataframe thead th {\n",
       "        text-align: right;\n",
       "    }\n",
       "</style>\n",
       "<table border=\"1\" class=\"dataframe\">\n",
       "  <thead>\n",
       "    <tr style=\"text-align: right;\">\n",
       "      <th>item_id</th>\n",
       "      <th>202291</th>\n",
       "      <th>397896</th>\n",
       "      <th>420647</th>\n",
       "      <th>480014</th>\n",
       "      <th>545926</th>\n",
       "      <th>707683</th>\n",
       "      <th>731106</th>\n",
       "      <th>818980</th>\n",
       "      <th>819063</th>\n",
       "      <th>819227</th>\n",
       "      <th>...</th>\n",
       "      <th>15778533</th>\n",
       "      <th>15831255</th>\n",
       "      <th>15926712</th>\n",
       "      <th>15926775</th>\n",
       "      <th>15926844</th>\n",
       "      <th>15926886</th>\n",
       "      <th>15927403</th>\n",
       "      <th>15927661</th>\n",
       "      <th>15927850</th>\n",
       "      <th>16809471</th>\n",
       "    </tr>\n",
       "    <tr>\n",
       "      <th>user_id</th>\n",
       "      <th></th>\n",
       "      <th></th>\n",
       "      <th></th>\n",
       "      <th></th>\n",
       "      <th></th>\n",
       "      <th></th>\n",
       "      <th></th>\n",
       "      <th></th>\n",
       "      <th></th>\n",
       "      <th></th>\n",
       "      <th></th>\n",
       "      <th></th>\n",
       "      <th></th>\n",
       "      <th></th>\n",
       "      <th></th>\n",
       "      <th></th>\n",
       "      <th></th>\n",
       "      <th></th>\n",
       "      <th></th>\n",
       "      <th></th>\n",
       "      <th></th>\n",
       "    </tr>\n",
       "  </thead>\n",
       "  <tbody>\n",
       "    <tr>\n",
       "      <th>1</th>\n",
       "      <td>0.0</td>\n",
       "      <td>0.0</td>\n",
       "      <td>0.0</td>\n",
       "      <td>0.0</td>\n",
       "      <td>0.0</td>\n",
       "      <td>0.0</td>\n",
       "      <td>0.0</td>\n",
       "      <td>0.0</td>\n",
       "      <td>0.0</td>\n",
       "      <td>0.0</td>\n",
       "      <td>...</td>\n",
       "      <td>0.0</td>\n",
       "      <td>0.0</td>\n",
       "      <td>0.0</td>\n",
       "      <td>0.0</td>\n",
       "      <td>1.0</td>\n",
       "      <td>0.0</td>\n",
       "      <td>0.0</td>\n",
       "      <td>0.0</td>\n",
       "      <td>0.0</td>\n",
       "      <td>0.0</td>\n",
       "    </tr>\n",
       "    <tr>\n",
       "      <th>2</th>\n",
       "      <td>0.0</td>\n",
       "      <td>0.0</td>\n",
       "      <td>0.0</td>\n",
       "      <td>0.0</td>\n",
       "      <td>0.0</td>\n",
       "      <td>0.0</td>\n",
       "      <td>0.0</td>\n",
       "      <td>0.0</td>\n",
       "      <td>0.0</td>\n",
       "      <td>0.0</td>\n",
       "      <td>...</td>\n",
       "      <td>0.0</td>\n",
       "      <td>0.0</td>\n",
       "      <td>0.0</td>\n",
       "      <td>0.0</td>\n",
       "      <td>0.0</td>\n",
       "      <td>0.0</td>\n",
       "      <td>0.0</td>\n",
       "      <td>0.0</td>\n",
       "      <td>0.0</td>\n",
       "      <td>0.0</td>\n",
       "    </tr>\n",
       "    <tr>\n",
       "      <th>3</th>\n",
       "      <td>0.0</td>\n",
       "      <td>0.0</td>\n",
       "      <td>0.0</td>\n",
       "      <td>0.0</td>\n",
       "      <td>0.0</td>\n",
       "      <td>0.0</td>\n",
       "      <td>0.0</td>\n",
       "      <td>0.0</td>\n",
       "      <td>0.0</td>\n",
       "      <td>0.0</td>\n",
       "      <td>...</td>\n",
       "      <td>0.0</td>\n",
       "      <td>0.0</td>\n",
       "      <td>0.0</td>\n",
       "      <td>0.0</td>\n",
       "      <td>0.0</td>\n",
       "      <td>0.0</td>\n",
       "      <td>0.0</td>\n",
       "      <td>0.0</td>\n",
       "      <td>0.0</td>\n",
       "      <td>0.0</td>\n",
       "    </tr>\n",
       "  </tbody>\n",
       "</table>\n",
       "<p>3 rows × 5001 columns</p>\n",
       "</div>"
      ],
      "text/plain": [
       "item_id  202291    397896    420647    480014    545926    707683    731106    \\\n",
       "user_id                                                                         \n",
       "1             0.0       0.0       0.0       0.0       0.0       0.0       0.0   \n",
       "2             0.0       0.0       0.0       0.0       0.0       0.0       0.0   \n",
       "3             0.0       0.0       0.0       0.0       0.0       0.0       0.0   \n",
       "\n",
       "item_id  818980    819063    819227    ...  15778533  15831255  15926712  \\\n",
       "user_id                                ...                                 \n",
       "1             0.0       0.0       0.0  ...       0.0       0.0       0.0   \n",
       "2             0.0       0.0       0.0  ...       0.0       0.0       0.0   \n",
       "3             0.0       0.0       0.0  ...       0.0       0.0       0.0   \n",
       "\n",
       "item_id  15926775  15926844  15926886  15927403  15927661  15927850  16809471  \n",
       "user_id                                                                        \n",
       "1             0.0       1.0       0.0       0.0       0.0       0.0       0.0  \n",
       "2             0.0       0.0       0.0       0.0       0.0       0.0       0.0  \n",
       "3             0.0       0.0       0.0       0.0       0.0       0.0       0.0  \n",
       "\n",
       "[3 rows x 5001 columns]"
      ]
     },
     "execution_count": 10,
     "metadata": {},
     "output_type": "execute_result"
    }
   ],
   "source": [
    "# Заведем фиктивный item_id\n",
    "\n",
    "data_train.loc[~data_train['item_id'].isin(top_5000), 'item_id'] = 999999\n",
    "\n",
    "user_item_matrix = pd.pivot_table(data_train, \n",
    "                                  index='user_id', columns='item_id', \n",
    "                                  values='quantity', # Можно пробовать другие варианты\n",
    "                                  aggfunc='count', \n",
    "                                  fill_value=0\n",
    "                                 )\n",
    "\n",
    "user_item_matrix = user_item_matrix.astype(float) # необходимый тип матрицы для implicit\n",
    "\n",
    "# переведем в формат saprse matrix\n",
    "sparse_user_item = csr_matrix(user_item_matrix).tocsr()\n",
    "\n",
    "user_item_matrix.head(3)"
   ]
  },
  {
   "cell_type": "code",
   "execution_count": 11,
   "metadata": {},
   "outputs": [
    {
     "data": {
      "text/html": [
       "<div>\n",
       "<style scoped>\n",
       "    .dataframe tbody tr th:only-of-type {\n",
       "        vertical-align: middle;\n",
       "    }\n",
       "\n",
       "    .dataframe tbody tr th {\n",
       "        vertical-align: top;\n",
       "    }\n",
       "\n",
       "    .dataframe thead th {\n",
       "        text-align: right;\n",
       "    }\n",
       "</style>\n",
       "<table border=\"1\" class=\"dataframe\">\n",
       "  <thead>\n",
       "    <tr style=\"text-align: right;\">\n",
       "      <th>item_id</th>\n",
       "      <th>202291</th>\n",
       "      <th>397896</th>\n",
       "      <th>420647</th>\n",
       "      <th>480014</th>\n",
       "      <th>545926</th>\n",
       "      <th>707683</th>\n",
       "      <th>731106</th>\n",
       "      <th>818980</th>\n",
       "      <th>819063</th>\n",
       "      <th>819227</th>\n",
       "      <th>...</th>\n",
       "      <th>15778533</th>\n",
       "      <th>15831255</th>\n",
       "      <th>15926712</th>\n",
       "      <th>15926775</th>\n",
       "      <th>15926844</th>\n",
       "      <th>15926886</th>\n",
       "      <th>15927403</th>\n",
       "      <th>15927661</th>\n",
       "      <th>15927850</th>\n",
       "      <th>16809471</th>\n",
       "    </tr>\n",
       "    <tr>\n",
       "      <th>user_id</th>\n",
       "      <th></th>\n",
       "      <th></th>\n",
       "      <th></th>\n",
       "      <th></th>\n",
       "      <th></th>\n",
       "      <th></th>\n",
       "      <th></th>\n",
       "      <th></th>\n",
       "      <th></th>\n",
       "      <th></th>\n",
       "      <th></th>\n",
       "      <th></th>\n",
       "      <th></th>\n",
       "      <th></th>\n",
       "      <th></th>\n",
       "      <th></th>\n",
       "      <th></th>\n",
       "      <th></th>\n",
       "      <th></th>\n",
       "      <th></th>\n",
       "      <th></th>\n",
       "    </tr>\n",
       "  </thead>\n",
       "  <tbody>\n",
       "    <tr>\n",
       "      <th>1</th>\n",
       "      <td>0.0</td>\n",
       "      <td>0.0</td>\n",
       "      <td>0.0</td>\n",
       "      <td>0.0</td>\n",
       "      <td>0.0</td>\n",
       "      <td>0.0</td>\n",
       "      <td>0.0</td>\n",
       "      <td>0.0</td>\n",
       "      <td>0.0</td>\n",
       "      <td>0.0</td>\n",
       "      <td>...</td>\n",
       "      <td>0.0</td>\n",
       "      <td>0.0</td>\n",
       "      <td>0.0</td>\n",
       "      <td>0.0</td>\n",
       "      <td>1.0</td>\n",
       "      <td>0.0</td>\n",
       "      <td>0.0</td>\n",
       "      <td>0.0</td>\n",
       "      <td>0.0</td>\n",
       "      <td>0.0</td>\n",
       "    </tr>\n",
       "    <tr>\n",
       "      <th>2</th>\n",
       "      <td>0.0</td>\n",
       "      <td>0.0</td>\n",
       "      <td>0.0</td>\n",
       "      <td>0.0</td>\n",
       "      <td>0.0</td>\n",
       "      <td>0.0</td>\n",
       "      <td>0.0</td>\n",
       "      <td>0.0</td>\n",
       "      <td>0.0</td>\n",
       "      <td>0.0</td>\n",
       "      <td>...</td>\n",
       "      <td>0.0</td>\n",
       "      <td>0.0</td>\n",
       "      <td>0.0</td>\n",
       "      <td>0.0</td>\n",
       "      <td>0.0</td>\n",
       "      <td>0.0</td>\n",
       "      <td>0.0</td>\n",
       "      <td>0.0</td>\n",
       "      <td>0.0</td>\n",
       "      <td>0.0</td>\n",
       "    </tr>\n",
       "    <tr>\n",
       "      <th>3</th>\n",
       "      <td>0.0</td>\n",
       "      <td>0.0</td>\n",
       "      <td>0.0</td>\n",
       "      <td>0.0</td>\n",
       "      <td>0.0</td>\n",
       "      <td>0.0</td>\n",
       "      <td>0.0</td>\n",
       "      <td>0.0</td>\n",
       "      <td>0.0</td>\n",
       "      <td>0.0</td>\n",
       "      <td>...</td>\n",
       "      <td>0.0</td>\n",
       "      <td>0.0</td>\n",
       "      <td>0.0</td>\n",
       "      <td>0.0</td>\n",
       "      <td>0.0</td>\n",
       "      <td>0.0</td>\n",
       "      <td>0.0</td>\n",
       "      <td>0.0</td>\n",
       "      <td>0.0</td>\n",
       "      <td>0.0</td>\n",
       "    </tr>\n",
       "    <tr>\n",
       "      <th>4</th>\n",
       "      <td>0.0</td>\n",
       "      <td>0.0</td>\n",
       "      <td>0.0</td>\n",
       "      <td>0.0</td>\n",
       "      <td>0.0</td>\n",
       "      <td>0.0</td>\n",
       "      <td>0.0</td>\n",
       "      <td>0.0</td>\n",
       "      <td>0.0</td>\n",
       "      <td>0.0</td>\n",
       "      <td>...</td>\n",
       "      <td>0.0</td>\n",
       "      <td>0.0</td>\n",
       "      <td>0.0</td>\n",
       "      <td>0.0</td>\n",
       "      <td>0.0</td>\n",
       "      <td>0.0</td>\n",
       "      <td>0.0</td>\n",
       "      <td>0.0</td>\n",
       "      <td>0.0</td>\n",
       "      <td>0.0</td>\n",
       "    </tr>\n",
       "    <tr>\n",
       "      <th>5</th>\n",
       "      <td>0.0</td>\n",
       "      <td>0.0</td>\n",
       "      <td>0.0</td>\n",
       "      <td>0.0</td>\n",
       "      <td>0.0</td>\n",
       "      <td>0.0</td>\n",
       "      <td>0.0</td>\n",
       "      <td>0.0</td>\n",
       "      <td>0.0</td>\n",
       "      <td>0.0</td>\n",
       "      <td>...</td>\n",
       "      <td>0.0</td>\n",
       "      <td>0.0</td>\n",
       "      <td>0.0</td>\n",
       "      <td>0.0</td>\n",
       "      <td>0.0</td>\n",
       "      <td>0.0</td>\n",
       "      <td>0.0</td>\n",
       "      <td>0.0</td>\n",
       "      <td>0.0</td>\n",
       "      <td>0.0</td>\n",
       "    </tr>\n",
       "    <tr>\n",
       "      <th>...</th>\n",
       "      <td>...</td>\n",
       "      <td>...</td>\n",
       "      <td>...</td>\n",
       "      <td>...</td>\n",
       "      <td>...</td>\n",
       "      <td>...</td>\n",
       "      <td>...</td>\n",
       "      <td>...</td>\n",
       "      <td>...</td>\n",
       "      <td>...</td>\n",
       "      <td>...</td>\n",
       "      <td>...</td>\n",
       "      <td>...</td>\n",
       "      <td>...</td>\n",
       "      <td>...</td>\n",
       "      <td>...</td>\n",
       "      <td>...</td>\n",
       "      <td>...</td>\n",
       "      <td>...</td>\n",
       "      <td>...</td>\n",
       "      <td>...</td>\n",
       "    </tr>\n",
       "    <tr>\n",
       "      <th>2496</th>\n",
       "      <td>0.0</td>\n",
       "      <td>0.0</td>\n",
       "      <td>0.0</td>\n",
       "      <td>0.0</td>\n",
       "      <td>0.0</td>\n",
       "      <td>0.0</td>\n",
       "      <td>0.0</td>\n",
       "      <td>0.0</td>\n",
       "      <td>0.0</td>\n",
       "      <td>0.0</td>\n",
       "      <td>...</td>\n",
       "      <td>0.0</td>\n",
       "      <td>0.0</td>\n",
       "      <td>0.0</td>\n",
       "      <td>0.0</td>\n",
       "      <td>0.0</td>\n",
       "      <td>0.0</td>\n",
       "      <td>0.0</td>\n",
       "      <td>0.0</td>\n",
       "      <td>0.0</td>\n",
       "      <td>0.0</td>\n",
       "    </tr>\n",
       "    <tr>\n",
       "      <th>2497</th>\n",
       "      <td>0.0</td>\n",
       "      <td>0.0</td>\n",
       "      <td>0.0</td>\n",
       "      <td>0.0</td>\n",
       "      <td>0.0</td>\n",
       "      <td>0.0</td>\n",
       "      <td>0.0</td>\n",
       "      <td>0.0</td>\n",
       "      <td>0.0</td>\n",
       "      <td>0.0</td>\n",
       "      <td>...</td>\n",
       "      <td>0.0</td>\n",
       "      <td>1.0</td>\n",
       "      <td>0.0</td>\n",
       "      <td>0.0</td>\n",
       "      <td>0.0</td>\n",
       "      <td>0.0</td>\n",
       "      <td>0.0</td>\n",
       "      <td>0.0</td>\n",
       "      <td>0.0</td>\n",
       "      <td>0.0</td>\n",
       "    </tr>\n",
       "    <tr>\n",
       "      <th>2498</th>\n",
       "      <td>2.0</td>\n",
       "      <td>0.0</td>\n",
       "      <td>0.0</td>\n",
       "      <td>0.0</td>\n",
       "      <td>0.0</td>\n",
       "      <td>0.0</td>\n",
       "      <td>0.0</td>\n",
       "      <td>0.0</td>\n",
       "      <td>0.0</td>\n",
       "      <td>0.0</td>\n",
       "      <td>...</td>\n",
       "      <td>0.0</td>\n",
       "      <td>0.0</td>\n",
       "      <td>0.0</td>\n",
       "      <td>0.0</td>\n",
       "      <td>0.0</td>\n",
       "      <td>0.0</td>\n",
       "      <td>0.0</td>\n",
       "      <td>0.0</td>\n",
       "      <td>0.0</td>\n",
       "      <td>0.0</td>\n",
       "    </tr>\n",
       "    <tr>\n",
       "      <th>2499</th>\n",
       "      <td>0.0</td>\n",
       "      <td>0.0</td>\n",
       "      <td>0.0</td>\n",
       "      <td>0.0</td>\n",
       "      <td>0.0</td>\n",
       "      <td>0.0</td>\n",
       "      <td>0.0</td>\n",
       "      <td>0.0</td>\n",
       "      <td>0.0</td>\n",
       "      <td>0.0</td>\n",
       "      <td>...</td>\n",
       "      <td>0.0</td>\n",
       "      <td>0.0</td>\n",
       "      <td>0.0</td>\n",
       "      <td>0.0</td>\n",
       "      <td>0.0</td>\n",
       "      <td>0.0</td>\n",
       "      <td>0.0</td>\n",
       "      <td>0.0</td>\n",
       "      <td>0.0</td>\n",
       "      <td>0.0</td>\n",
       "    </tr>\n",
       "    <tr>\n",
       "      <th>2500</th>\n",
       "      <td>0.0</td>\n",
       "      <td>0.0</td>\n",
       "      <td>0.0</td>\n",
       "      <td>0.0</td>\n",
       "      <td>0.0</td>\n",
       "      <td>0.0</td>\n",
       "      <td>0.0</td>\n",
       "      <td>0.0</td>\n",
       "      <td>0.0</td>\n",
       "      <td>0.0</td>\n",
       "      <td>...</td>\n",
       "      <td>0.0</td>\n",
       "      <td>0.0</td>\n",
       "      <td>0.0</td>\n",
       "      <td>0.0</td>\n",
       "      <td>0.0</td>\n",
       "      <td>0.0</td>\n",
       "      <td>0.0</td>\n",
       "      <td>0.0</td>\n",
       "      <td>0.0</td>\n",
       "      <td>0.0</td>\n",
       "    </tr>\n",
       "  </tbody>\n",
       "</table>\n",
       "<p>2499 rows × 5001 columns</p>\n",
       "</div>"
      ],
      "text/plain": [
       "item_id  202291    397896    420647    480014    545926    707683    731106    \\\n",
       "user_id                                                                         \n",
       "1             0.0       0.0       0.0       0.0       0.0       0.0       0.0   \n",
       "2             0.0       0.0       0.0       0.0       0.0       0.0       0.0   \n",
       "3             0.0       0.0       0.0       0.0       0.0       0.0       0.0   \n",
       "4             0.0       0.0       0.0       0.0       0.0       0.0       0.0   \n",
       "5             0.0       0.0       0.0       0.0       0.0       0.0       0.0   \n",
       "...           ...       ...       ...       ...       ...       ...       ...   \n",
       "2496          0.0       0.0       0.0       0.0       0.0       0.0       0.0   \n",
       "2497          0.0       0.0       0.0       0.0       0.0       0.0       0.0   \n",
       "2498          2.0       0.0       0.0       0.0       0.0       0.0       0.0   \n",
       "2499          0.0       0.0       0.0       0.0       0.0       0.0       0.0   \n",
       "2500          0.0       0.0       0.0       0.0       0.0       0.0       0.0   \n",
       "\n",
       "item_id  818980    819063    819227    ...  15778533  15831255  15926712  \\\n",
       "user_id                                ...                                 \n",
       "1             0.0       0.0       0.0  ...       0.0       0.0       0.0   \n",
       "2             0.0       0.0       0.0  ...       0.0       0.0       0.0   \n",
       "3             0.0       0.0       0.0  ...       0.0       0.0       0.0   \n",
       "4             0.0       0.0       0.0  ...       0.0       0.0       0.0   \n",
       "5             0.0       0.0       0.0  ...       0.0       0.0       0.0   \n",
       "...           ...       ...       ...  ...       ...       ...       ...   \n",
       "2496          0.0       0.0       0.0  ...       0.0       0.0       0.0   \n",
       "2497          0.0       0.0       0.0  ...       0.0       1.0       0.0   \n",
       "2498          0.0       0.0       0.0  ...       0.0       0.0       0.0   \n",
       "2499          0.0       0.0       0.0  ...       0.0       0.0       0.0   \n",
       "2500          0.0       0.0       0.0  ...       0.0       0.0       0.0   \n",
       "\n",
       "item_id  15926775  15926844  15926886  15927403  15927661  15927850  16809471  \n",
       "user_id                                                                        \n",
       "1             0.0       1.0       0.0       0.0       0.0       0.0       0.0  \n",
       "2             0.0       0.0       0.0       0.0       0.0       0.0       0.0  \n",
       "3             0.0       0.0       0.0       0.0       0.0       0.0       0.0  \n",
       "4             0.0       0.0       0.0       0.0       0.0       0.0       0.0  \n",
       "5             0.0       0.0       0.0       0.0       0.0       0.0       0.0  \n",
       "...           ...       ...       ...       ...       ...       ...       ...  \n",
       "2496          0.0       0.0       0.0       0.0       0.0       0.0       0.0  \n",
       "2497          0.0       0.0       0.0       0.0       0.0       0.0       0.0  \n",
       "2498          0.0       0.0       0.0       0.0       0.0       0.0       0.0  \n",
       "2499          0.0       0.0       0.0       0.0       0.0       0.0       0.0  \n",
       "2500          0.0       0.0       0.0       0.0       0.0       0.0       0.0  \n",
       "\n",
       "[2499 rows x 5001 columns]"
      ]
     },
     "execution_count": 11,
     "metadata": {},
     "output_type": "execute_result"
    }
   ],
   "source": [
    "user_item_matrix"
   ]
  },
  {
   "cell_type": "code",
   "execution_count": 12,
   "metadata": {
    "id": "TiPuXLb7IHym"
   },
   "outputs": [],
   "source": [
    "userids = user_item_matrix.index.values\n",
    "itemids = user_item_matrix.columns.values\n",
    "\n",
    "matrix_userids = np.arange(len(userids))\n",
    "matrix_itemids = np.arange(len(itemids))\n",
    "\n",
    "id_to_itemid = dict(zip(matrix_itemids, itemids))\n",
    "id_to_userid = dict(zip(matrix_userids, userids))\n",
    "\n",
    "itemid_to_id = dict(zip(itemids, matrix_itemids))\n",
    "userid_to_id = dict(zip(userids, matrix_userids))"
   ]
  },
  {
   "cell_type": "code",
   "execution_count": 13,
   "metadata": {},
   "outputs": [
    {
     "data": {
      "text/plain": [
       "1983"
      ]
     },
     "execution_count": 13,
     "metadata": {},
     "output_type": "execute_result"
    }
   ],
   "source": [
    "userid_to_id[1984]"
   ]
  },
  {
   "cell_type": "markdown",
   "metadata": {},
   "source": [
    "# ALS"
   ]
  },
  {
   "cell_type": "code",
   "execution_count": 14,
   "metadata": {
    "colab": {
     "referenced_widgets": [
      "f86969ff8f854a2cb5128440a2a2734e"
     ]
    },
    "id": "3DlT5ppEIHyn",
    "outputId": "c5207262-0dfc-4e42-91bc-e9754aad1906"
   },
   "outputs": [
    {
     "name": "stderr",
     "output_type": "stream",
     "text": [
      "WARNING:root:OpenBLAS detected. Its highly recommend to set the environment variable 'export OPENBLAS_NUM_THREADS=1' to disable its internal multithreading\n"
     ]
    },
    {
     "data": {
      "application/vnd.jupyter.widget-view+json": {
       "model_id": "49bb134b31a5487aa396e72a05ea81f7",
       "version_major": 2,
       "version_minor": 0
      },
      "text/plain": [
       "  0%|          | 0/15 [00:00<?, ?it/s]"
      ]
     },
     "metadata": {},
     "output_type": "display_data"
    },
    {
     "name": "stdout",
     "output_type": "stream",
     "text": [
      "CPU times: user 29.2 s, sys: 17.9 s, total: 47.1 s\n",
      "Wall time: 13 s\n"
     ]
    }
   ],
   "source": [
    "%%time\n",
    "\n",
    "model = AlternatingLeastSquares(factors=100, \n",
    "                                regularization=0.001,\n",
    "                                iterations=15, \n",
    "                                calculate_training_loss=True, \n",
    "                                num_threads=4)\n",
    "\n",
    "model.fit(csr_matrix(user_item_matrix).T.tocsr(),  # На вход item-user matrix\n",
    "          show_progress=True)\n",
    "\n",
    "recs = model.recommend(userid=userid_to_id[2],  # userid - id от 0 до N\n",
    "                        user_items=csr_matrix(user_item_matrix).tocsr(),   # на вход user-item matrix\n",
    "                        N=5, # кол-во рекомендаций \n",
    "                        filter_already_liked_items=False, \n",
    "                        filter_items=None, \n",
    "                        recalculate_user=True)"
   ]
  },
  {
   "cell_type": "code",
   "execution_count": 15,
   "metadata": {
    "id": "NJR0pKy4IHyn",
    "outputId": "f8ea5a18-2e98-43fe-9ec4-5a6f530bf258"
   },
   "outputs": [
    {
     "data": {
      "text/plain": [
       "[1133018, 1106523, 999999, 1082185, 5569230]"
      ]
     },
     "execution_count": 15,
     "metadata": {},
     "output_type": "execute_result"
    }
   ],
   "source": [
    "[id_to_itemid[rec[0]] for rec in recs]"
   ]
  },
  {
   "cell_type": "code",
   "execution_count": 16,
   "metadata": {
    "id": "m2MhJPAcIHyo"
   },
   "outputs": [],
   "source": [
    "def get_recommendations(user, model, N=5):\n",
    "    res = [id_to_itemid[rec[0]] for rec in \n",
    "                    model.recommend(userid=userid_to_id[user], \n",
    "                                    user_items=sparse_user_item,   # на вход user-item matrix\n",
    "                                    N=N, \n",
    "                                    filter_already_liked_items=False, \n",
    "                                    filter_items=None, \n",
    "                                    recalculate_user=True)]\n",
    "    return res"
   ]
  },
  {
   "cell_type": "code",
   "execution_count": 17,
   "metadata": {
    "id": "-zbMDYN4IHyo",
    "outputId": "a042ce17-abe1-4b75-aedb-53a3f5c8d839"
   },
   "outputs": [
    {
     "name": "stdout",
     "output_type": "stream",
     "text": [
      "CPU times: user 2min 37s, sys: 2min 5s, total: 4min 42s\n",
      "Wall time: 1min 15s\n"
     ]
    },
    {
     "data": {
      "text/plain": [
       "0.1626836434867777"
      ]
     },
     "execution_count": 17,
     "metadata": {},
     "output_type": "execute_result"
    }
   ],
   "source": [
    "%%time\n",
    "    \n",
    "result['als'] = result['user_id'].apply(lambda x: get_recommendations(x, model=model, N=5))\n",
    "result.apply(lambda row: precision_at_k(row['als'], row['actual']), axis=1).mean()"
   ]
  },
  {
   "cell_type": "code",
   "execution_count": 18,
   "metadata": {
    "id": "9TqsTlZEIHyp",
    "outputId": "e040c9f0-75ff-4b9d-ab7b-329e30dc5e09"
   },
   "outputs": [
    {
     "data": {
      "text/html": [
       "<div>\n",
       "<style scoped>\n",
       "    .dataframe tbody tr th:only-of-type {\n",
       "        vertical-align: middle;\n",
       "    }\n",
       "\n",
       "    .dataframe tbody tr th {\n",
       "        vertical-align: top;\n",
       "    }\n",
       "\n",
       "    .dataframe thead th {\n",
       "        text-align: right;\n",
       "    }\n",
       "</style>\n",
       "<table border=\"1\" class=\"dataframe\">\n",
       "  <thead>\n",
       "    <tr style=\"text-align: right;\">\n",
       "      <th></th>\n",
       "      <th>user_id</th>\n",
       "      <th>actual</th>\n",
       "      <th>als</th>\n",
       "    </tr>\n",
       "  </thead>\n",
       "  <tbody>\n",
       "    <tr>\n",
       "      <th>0</th>\n",
       "      <td>1</td>\n",
       "      <td>[821867, 834484, 856942, 865456, 889248, 90795...</td>\n",
       "      <td>[1033142, 995242, 979707, 1105488, 1051211]</td>\n",
       "    </tr>\n",
       "    <tr>\n",
       "      <th>1</th>\n",
       "      <td>3</td>\n",
       "      <td>[835476, 851057, 872021, 878302, 879948, 90963...</td>\n",
       "      <td>[910032, 1133018, 1106523, 938700, 965766]</td>\n",
       "    </tr>\n",
       "  </tbody>\n",
       "</table>\n",
       "</div>"
      ],
      "text/plain": [
       "   user_id                                             actual  \\\n",
       "0        1  [821867, 834484, 856942, 865456, 889248, 90795...   \n",
       "1        3  [835476, 851057, 872021, 878302, 879948, 90963...   \n",
       "\n",
       "                                           als  \n",
       "0  [1033142, 995242, 979707, 1105488, 1051211]  \n",
       "1   [910032, 1133018, 1106523, 938700, 965766]  "
      ]
     },
     "execution_count": 18,
     "metadata": {},
     "output_type": "execute_result"
    }
   ],
   "source": [
    "result.head(2)"
   ]
  },
  {
   "cell_type": "markdown",
   "metadata": {
    "id": "R1804WQGIHyp"
   },
   "source": [
    "### Embeddings"
   ]
  },
  {
   "cell_type": "code",
   "execution_count": 19,
   "metadata": {
    "id": "_ULLM3KlIHyp",
    "outputId": "bb1f650b-2d1c-4618-9a20-698cc98e6181"
   },
   "outputs": [
    {
     "data": {
      "text/plain": [
       "(5001, 100)"
      ]
     },
     "execution_count": 19,
     "metadata": {},
     "output_type": "execute_result"
    }
   ],
   "source": [
    "model.item_factors.shape"
   ]
  },
  {
   "cell_type": "code",
   "execution_count": 20,
   "metadata": {},
   "outputs": [
    {
     "data": {
      "text/html": [
       "<div>\n",
       "<style scoped>\n",
       "    .dataframe tbody tr th:only-of-type {\n",
       "        vertical-align: middle;\n",
       "    }\n",
       "\n",
       "    .dataframe tbody tr th {\n",
       "        vertical-align: top;\n",
       "    }\n",
       "\n",
       "    .dataframe thead th {\n",
       "        text-align: right;\n",
       "    }\n",
       "</style>\n",
       "<table border=\"1\" class=\"dataframe\">\n",
       "  <thead>\n",
       "    <tr style=\"text-align: right;\">\n",
       "      <th></th>\n",
       "      <th>0</th>\n",
       "      <th>1</th>\n",
       "      <th>2</th>\n",
       "      <th>3</th>\n",
       "      <th>4</th>\n",
       "      <th>5</th>\n",
       "      <th>6</th>\n",
       "      <th>7</th>\n",
       "      <th>8</th>\n",
       "      <th>9</th>\n",
       "      <th>...</th>\n",
       "      <th>90</th>\n",
       "      <th>91</th>\n",
       "      <th>92</th>\n",
       "      <th>93</th>\n",
       "      <th>94</th>\n",
       "      <th>95</th>\n",
       "      <th>96</th>\n",
       "      <th>97</th>\n",
       "      <th>98</th>\n",
       "      <th>99</th>\n",
       "    </tr>\n",
       "  </thead>\n",
       "  <tbody>\n",
       "    <tr>\n",
       "      <th>0</th>\n",
       "      <td>0.002040</td>\n",
       "      <td>0.002315</td>\n",
       "      <td>0.000945</td>\n",
       "      <td>0.003730</td>\n",
       "      <td>0.003092</td>\n",
       "      <td>0.003583</td>\n",
       "      <td>0.002501</td>\n",
       "      <td>0.000805</td>\n",
       "      <td>0.003128</td>\n",
       "      <td>0.002810</td>\n",
       "      <td>...</td>\n",
       "      <td>0.002651</td>\n",
       "      <td>0.003652</td>\n",
       "      <td>0.003380</td>\n",
       "      <td>0.002063</td>\n",
       "      <td>0.003119</td>\n",
       "      <td>0.001481</td>\n",
       "      <td>0.003014</td>\n",
       "      <td>0.003493</td>\n",
       "      <td>0.001942</td>\n",
       "      <td>0.001395</td>\n",
       "    </tr>\n",
       "    <tr>\n",
       "      <th>1</th>\n",
       "      <td>0.000429</td>\n",
       "      <td>0.002230</td>\n",
       "      <td>-0.000636</td>\n",
       "      <td>0.005229</td>\n",
       "      <td>0.006043</td>\n",
       "      <td>0.007529</td>\n",
       "      <td>0.002820</td>\n",
       "      <td>-0.001796</td>\n",
       "      <td>0.002710</td>\n",
       "      <td>0.005888</td>\n",
       "      <td>...</td>\n",
       "      <td>-0.000779</td>\n",
       "      <td>0.009345</td>\n",
       "      <td>0.002442</td>\n",
       "      <td>-0.000642</td>\n",
       "      <td>0.005009</td>\n",
       "      <td>0.001809</td>\n",
       "      <td>0.001343</td>\n",
       "      <td>0.001530</td>\n",
       "      <td>0.004144</td>\n",
       "      <td>0.003757</td>\n",
       "    </tr>\n",
       "    <tr>\n",
       "      <th>2</th>\n",
       "      <td>0.000298</td>\n",
       "      <td>0.003452</td>\n",
       "      <td>-0.000432</td>\n",
       "      <td>0.001231</td>\n",
       "      <td>0.004184</td>\n",
       "      <td>0.003888</td>\n",
       "      <td>0.000817</td>\n",
       "      <td>0.002286</td>\n",
       "      <td>0.002027</td>\n",
       "      <td>0.002118</td>\n",
       "      <td>...</td>\n",
       "      <td>-0.000139</td>\n",
       "      <td>0.003414</td>\n",
       "      <td>0.004024</td>\n",
       "      <td>0.001078</td>\n",
       "      <td>0.003410</td>\n",
       "      <td>0.000107</td>\n",
       "      <td>0.004152</td>\n",
       "      <td>0.002619</td>\n",
       "      <td>0.001275</td>\n",
       "      <td>0.000807</td>\n",
       "    </tr>\n",
       "    <tr>\n",
       "      <th>3</th>\n",
       "      <td>0.002180</td>\n",
       "      <td>0.002547</td>\n",
       "      <td>0.000176</td>\n",
       "      <td>0.004332</td>\n",
       "      <td>0.001968</td>\n",
       "      <td>0.002311</td>\n",
       "      <td>0.000935</td>\n",
       "      <td>0.000022</td>\n",
       "      <td>0.002185</td>\n",
       "      <td>0.003210</td>\n",
       "      <td>...</td>\n",
       "      <td>0.001584</td>\n",
       "      <td>0.003277</td>\n",
       "      <td>0.001340</td>\n",
       "      <td>0.000155</td>\n",
       "      <td>0.002704</td>\n",
       "      <td>0.001752</td>\n",
       "      <td>0.004165</td>\n",
       "      <td>0.003057</td>\n",
       "      <td>0.003433</td>\n",
       "      <td>0.001084</td>\n",
       "    </tr>\n",
       "    <tr>\n",
       "      <th>4</th>\n",
       "      <td>0.002621</td>\n",
       "      <td>0.002552</td>\n",
       "      <td>0.000564</td>\n",
       "      <td>0.003010</td>\n",
       "      <td>0.002856</td>\n",
       "      <td>0.002789</td>\n",
       "      <td>0.002154</td>\n",
       "      <td>0.001370</td>\n",
       "      <td>0.002793</td>\n",
       "      <td>0.002540</td>\n",
       "      <td>...</td>\n",
       "      <td>0.002941</td>\n",
       "      <td>0.003087</td>\n",
       "      <td>0.003228</td>\n",
       "      <td>0.001938</td>\n",
       "      <td>0.002387</td>\n",
       "      <td>0.001247</td>\n",
       "      <td>0.002625</td>\n",
       "      <td>0.003337</td>\n",
       "      <td>0.002056</td>\n",
       "      <td>0.001719</td>\n",
       "    </tr>\n",
       "    <tr>\n",
       "      <th>...</th>\n",
       "      <td>...</td>\n",
       "      <td>...</td>\n",
       "      <td>...</td>\n",
       "      <td>...</td>\n",
       "      <td>...</td>\n",
       "      <td>...</td>\n",
       "      <td>...</td>\n",
       "      <td>...</td>\n",
       "      <td>...</td>\n",
       "      <td>...</td>\n",
       "      <td>...</td>\n",
       "      <td>...</td>\n",
       "      <td>...</td>\n",
       "      <td>...</td>\n",
       "      <td>...</td>\n",
       "      <td>...</td>\n",
       "      <td>...</td>\n",
       "      <td>...</td>\n",
       "      <td>...</td>\n",
       "      <td>...</td>\n",
       "      <td>...</td>\n",
       "    </tr>\n",
       "    <tr>\n",
       "      <th>4996</th>\n",
       "      <td>-0.003729</td>\n",
       "      <td>0.007691</td>\n",
       "      <td>0.010361</td>\n",
       "      <td>0.006786</td>\n",
       "      <td>0.008450</td>\n",
       "      <td>0.015457</td>\n",
       "      <td>0.002246</td>\n",
       "      <td>0.005160</td>\n",
       "      <td>0.001889</td>\n",
       "      <td>0.012121</td>\n",
       "      <td>...</td>\n",
       "      <td>-0.002338</td>\n",
       "      <td>0.002177</td>\n",
       "      <td>0.009776</td>\n",
       "      <td>0.008116</td>\n",
       "      <td>0.007607</td>\n",
       "      <td>0.004181</td>\n",
       "      <td>0.009649</td>\n",
       "      <td>0.006481</td>\n",
       "      <td>0.005732</td>\n",
       "      <td>0.006157</td>\n",
       "    </tr>\n",
       "    <tr>\n",
       "      <th>4997</th>\n",
       "      <td>0.009580</td>\n",
       "      <td>0.004880</td>\n",
       "      <td>-0.001815</td>\n",
       "      <td>0.006423</td>\n",
       "      <td>0.003492</td>\n",
       "      <td>0.009670</td>\n",
       "      <td>0.010749</td>\n",
       "      <td>0.005270</td>\n",
       "      <td>0.004815</td>\n",
       "      <td>0.005206</td>\n",
       "      <td>...</td>\n",
       "      <td>0.012452</td>\n",
       "      <td>0.008119</td>\n",
       "      <td>0.002780</td>\n",
       "      <td>0.007149</td>\n",
       "      <td>-0.002285</td>\n",
       "      <td>0.004647</td>\n",
       "      <td>0.007104</td>\n",
       "      <td>0.002663</td>\n",
       "      <td>0.003216</td>\n",
       "      <td>0.002655</td>\n",
       "    </tr>\n",
       "    <tr>\n",
       "      <th>4998</th>\n",
       "      <td>0.006998</td>\n",
       "      <td>0.005694</td>\n",
       "      <td>0.001197</td>\n",
       "      <td>0.006242</td>\n",
       "      <td>0.007001</td>\n",
       "      <td>0.002518</td>\n",
       "      <td>0.003488</td>\n",
       "      <td>0.003493</td>\n",
       "      <td>0.007729</td>\n",
       "      <td>0.000606</td>\n",
       "      <td>...</td>\n",
       "      <td>0.003813</td>\n",
       "      <td>0.006000</td>\n",
       "      <td>0.007326</td>\n",
       "      <td>-0.000730</td>\n",
       "      <td>0.005194</td>\n",
       "      <td>0.002632</td>\n",
       "      <td>0.004075</td>\n",
       "      <td>0.003819</td>\n",
       "      <td>0.003324</td>\n",
       "      <td>0.003513</td>\n",
       "    </tr>\n",
       "    <tr>\n",
       "      <th>4999</th>\n",
       "      <td>0.004499</td>\n",
       "      <td>0.004881</td>\n",
       "      <td>0.001993</td>\n",
       "      <td>0.005863</td>\n",
       "      <td>0.000317</td>\n",
       "      <td>0.008062</td>\n",
       "      <td>0.007294</td>\n",
       "      <td>0.002241</td>\n",
       "      <td>0.000355</td>\n",
       "      <td>0.006062</td>\n",
       "      <td>...</td>\n",
       "      <td>0.005088</td>\n",
       "      <td>0.009342</td>\n",
       "      <td>0.001464</td>\n",
       "      <td>0.008025</td>\n",
       "      <td>0.004754</td>\n",
       "      <td>0.005817</td>\n",
       "      <td>0.005026</td>\n",
       "      <td>0.006779</td>\n",
       "      <td>0.004388</td>\n",
       "      <td>0.007324</td>\n",
       "    </tr>\n",
       "    <tr>\n",
       "      <th>5000</th>\n",
       "      <td>0.006541</td>\n",
       "      <td>0.005648</td>\n",
       "      <td>0.005680</td>\n",
       "      <td>0.008165</td>\n",
       "      <td>0.006926</td>\n",
       "      <td>0.010660</td>\n",
       "      <td>-0.000275</td>\n",
       "      <td>0.007212</td>\n",
       "      <td>0.011405</td>\n",
       "      <td>0.002616</td>\n",
       "      <td>...</td>\n",
       "      <td>0.002887</td>\n",
       "      <td>0.004709</td>\n",
       "      <td>0.003747</td>\n",
       "      <td>-0.000555</td>\n",
       "      <td>0.000846</td>\n",
       "      <td>0.004796</td>\n",
       "      <td>-0.000152</td>\n",
       "      <td>0.011388</td>\n",
       "      <td>-0.000127</td>\n",
       "      <td>-0.003366</td>\n",
       "    </tr>\n",
       "  </tbody>\n",
       "</table>\n",
       "<p>5001 rows × 100 columns</p>\n",
       "</div>"
      ],
      "text/plain": [
       "            0         1         2         3         4         5         6   \\\n",
       "0     0.002040  0.002315  0.000945  0.003730  0.003092  0.003583  0.002501   \n",
       "1     0.000429  0.002230 -0.000636  0.005229  0.006043  0.007529  0.002820   \n",
       "2     0.000298  0.003452 -0.000432  0.001231  0.004184  0.003888  0.000817   \n",
       "3     0.002180  0.002547  0.000176  0.004332  0.001968  0.002311  0.000935   \n",
       "4     0.002621  0.002552  0.000564  0.003010  0.002856  0.002789  0.002154   \n",
       "...        ...       ...       ...       ...       ...       ...       ...   \n",
       "4996 -0.003729  0.007691  0.010361  0.006786  0.008450  0.015457  0.002246   \n",
       "4997  0.009580  0.004880 -0.001815  0.006423  0.003492  0.009670  0.010749   \n",
       "4998  0.006998  0.005694  0.001197  0.006242  0.007001  0.002518  0.003488   \n",
       "4999  0.004499  0.004881  0.001993  0.005863  0.000317  0.008062  0.007294   \n",
       "5000  0.006541  0.005648  0.005680  0.008165  0.006926  0.010660 -0.000275   \n",
       "\n",
       "            7         8         9   ...        90        91        92  \\\n",
       "0     0.000805  0.003128  0.002810  ...  0.002651  0.003652  0.003380   \n",
       "1    -0.001796  0.002710  0.005888  ... -0.000779  0.009345  0.002442   \n",
       "2     0.002286  0.002027  0.002118  ... -0.000139  0.003414  0.004024   \n",
       "3     0.000022  0.002185  0.003210  ...  0.001584  0.003277  0.001340   \n",
       "4     0.001370  0.002793  0.002540  ...  0.002941  0.003087  0.003228   \n",
       "...        ...       ...       ...  ...       ...       ...       ...   \n",
       "4996  0.005160  0.001889  0.012121  ... -0.002338  0.002177  0.009776   \n",
       "4997  0.005270  0.004815  0.005206  ...  0.012452  0.008119  0.002780   \n",
       "4998  0.003493  0.007729  0.000606  ...  0.003813  0.006000  0.007326   \n",
       "4999  0.002241  0.000355  0.006062  ...  0.005088  0.009342  0.001464   \n",
       "5000  0.007212  0.011405  0.002616  ...  0.002887  0.004709  0.003747   \n",
       "\n",
       "            93        94        95        96        97        98        99  \n",
       "0     0.002063  0.003119  0.001481  0.003014  0.003493  0.001942  0.001395  \n",
       "1    -0.000642  0.005009  0.001809  0.001343  0.001530  0.004144  0.003757  \n",
       "2     0.001078  0.003410  0.000107  0.004152  0.002619  0.001275  0.000807  \n",
       "3     0.000155  0.002704  0.001752  0.004165  0.003057  0.003433  0.001084  \n",
       "4     0.001938  0.002387  0.001247  0.002625  0.003337  0.002056  0.001719  \n",
       "...        ...       ...       ...       ...       ...       ...       ...  \n",
       "4996  0.008116  0.007607  0.004181  0.009649  0.006481  0.005732  0.006157  \n",
       "4997  0.007149 -0.002285  0.004647  0.007104  0.002663  0.003216  0.002655  \n",
       "4998 -0.000730  0.005194  0.002632  0.004075  0.003819  0.003324  0.003513  \n",
       "4999  0.008025  0.004754  0.005817  0.005026  0.006779  0.004388  0.007324  \n",
       "5000 -0.000555  0.000846  0.004796 -0.000152  0.011388 -0.000127 -0.003366  \n",
       "\n",
       "[5001 rows x 100 columns]"
      ]
     },
     "execution_count": 20,
     "metadata": {},
     "output_type": "execute_result"
    }
   ],
   "source": [
    "pd.DataFrame(model.item_factors)"
   ]
  },
  {
   "cell_type": "code",
   "execution_count": 21,
   "metadata": {
    "id": "s0uphbU-IHyq",
    "outputId": "5a316e3e-554c-4a06-acab-8e4b7db454ef"
   },
   "outputs": [
    {
     "data": {
      "text/plain": [
       "(2499, 100)"
      ]
     },
     "execution_count": 21,
     "metadata": {},
     "output_type": "execute_result"
    }
   ],
   "source": [
    "model.user_factors.shape"
   ]
  },
  {
   "cell_type": "code",
   "execution_count": 22,
   "metadata": {},
   "outputs": [
    {
     "data": {
      "text/html": [
       "<div>\n",
       "<style scoped>\n",
       "    .dataframe tbody tr th:only-of-type {\n",
       "        vertical-align: middle;\n",
       "    }\n",
       "\n",
       "    .dataframe tbody tr th {\n",
       "        vertical-align: top;\n",
       "    }\n",
       "\n",
       "    .dataframe thead th {\n",
       "        text-align: right;\n",
       "    }\n",
       "</style>\n",
       "<table border=\"1\" class=\"dataframe\">\n",
       "  <thead>\n",
       "    <tr style=\"text-align: right;\">\n",
       "      <th></th>\n",
       "      <th>0</th>\n",
       "      <th>1</th>\n",
       "      <th>2</th>\n",
       "      <th>3</th>\n",
       "      <th>4</th>\n",
       "      <th>5</th>\n",
       "      <th>6</th>\n",
       "      <th>7</th>\n",
       "      <th>8</th>\n",
       "      <th>9</th>\n",
       "      <th>...</th>\n",
       "      <th>90</th>\n",
       "      <th>91</th>\n",
       "      <th>92</th>\n",
       "      <th>93</th>\n",
       "      <th>94</th>\n",
       "      <th>95</th>\n",
       "      <th>96</th>\n",
       "      <th>97</th>\n",
       "      <th>98</th>\n",
       "      <th>99</th>\n",
       "    </tr>\n",
       "  </thead>\n",
       "  <tbody>\n",
       "    <tr>\n",
       "      <th>0</th>\n",
       "      <td>-3.389435</td>\n",
       "      <td>-0.618803</td>\n",
       "      <td>1.336954</td>\n",
       "      <td>2.569565</td>\n",
       "      <td>5.932576</td>\n",
       "      <td>-5.216772</td>\n",
       "      <td>8.281100</td>\n",
       "      <td>4.856490</td>\n",
       "      <td>-3.661364</td>\n",
       "      <td>-9.153715</td>\n",
       "      <td>...</td>\n",
       "      <td>-5.448255</td>\n",
       "      <td>-4.107651</td>\n",
       "      <td>-0.891458</td>\n",
       "      <td>-1.949338</td>\n",
       "      <td>-4.280981</td>\n",
       "      <td>0.421640</td>\n",
       "      <td>-2.271080</td>\n",
       "      <td>-7.321725</td>\n",
       "      <td>6.956233</td>\n",
       "      <td>6.974032</td>\n",
       "    </tr>\n",
       "    <tr>\n",
       "      <th>1</th>\n",
       "      <td>-4.654256</td>\n",
       "      <td>3.025438</td>\n",
       "      <td>-0.027906</td>\n",
       "      <td>3.006806</td>\n",
       "      <td>-4.562694</td>\n",
       "      <td>-0.114651</td>\n",
       "      <td>7.136983</td>\n",
       "      <td>5.205957</td>\n",
       "      <td>0.924291</td>\n",
       "      <td>-1.046082</td>\n",
       "      <td>...</td>\n",
       "      <td>-7.268514</td>\n",
       "      <td>-4.843895</td>\n",
       "      <td>-3.937718</td>\n",
       "      <td>0.218091</td>\n",
       "      <td>-1.185352</td>\n",
       "      <td>-2.021557</td>\n",
       "      <td>2.386004</td>\n",
       "      <td>-2.755498</td>\n",
       "      <td>2.133056</td>\n",
       "      <td>3.756943</td>\n",
       "    </tr>\n",
       "    <tr>\n",
       "      <th>2</th>\n",
       "      <td>-4.485998</td>\n",
       "      <td>0.294977</td>\n",
       "      <td>1.370952</td>\n",
       "      <td>-0.557838</td>\n",
       "      <td>-5.862751</td>\n",
       "      <td>4.198915</td>\n",
       "      <td>1.641994</td>\n",
       "      <td>6.814697</td>\n",
       "      <td>2.959149</td>\n",
       "      <td>-0.701652</td>\n",
       "      <td>...</td>\n",
       "      <td>-4.353951</td>\n",
       "      <td>-1.778066</td>\n",
       "      <td>2.937758</td>\n",
       "      <td>4.020645</td>\n",
       "      <td>3.405861</td>\n",
       "      <td>5.115898</td>\n",
       "      <td>2.035033</td>\n",
       "      <td>-0.141493</td>\n",
       "      <td>4.664750</td>\n",
       "      <td>4.938824</td>\n",
       "    </tr>\n",
       "    <tr>\n",
       "      <th>3</th>\n",
       "      <td>-4.985702</td>\n",
       "      <td>2.043445</td>\n",
       "      <td>-5.351280</td>\n",
       "      <td>2.478656</td>\n",
       "      <td>-1.325007</td>\n",
       "      <td>1.664366</td>\n",
       "      <td>3.200163</td>\n",
       "      <td>3.310713</td>\n",
       "      <td>-0.721532</td>\n",
       "      <td>-3.012245</td>\n",
       "      <td>...</td>\n",
       "      <td>-4.039396</td>\n",
       "      <td>-4.124896</td>\n",
       "      <td>-3.342163</td>\n",
       "      <td>-4.477258</td>\n",
       "      <td>0.748316</td>\n",
       "      <td>-0.315925</td>\n",
       "      <td>1.847817</td>\n",
       "      <td>-2.151012</td>\n",
       "      <td>2.678373</td>\n",
       "      <td>0.017727</td>\n",
       "    </tr>\n",
       "    <tr>\n",
       "      <th>4</th>\n",
       "      <td>-1.573304</td>\n",
       "      <td>3.795666</td>\n",
       "      <td>-2.974566</td>\n",
       "      <td>3.673335</td>\n",
       "      <td>-4.161601</td>\n",
       "      <td>0.608247</td>\n",
       "      <td>1.637960</td>\n",
       "      <td>3.827393</td>\n",
       "      <td>-0.182846</td>\n",
       "      <td>-2.323209</td>\n",
       "      <td>...</td>\n",
       "      <td>-3.282023</td>\n",
       "      <td>-4.050768</td>\n",
       "      <td>-2.057132</td>\n",
       "      <td>-2.458235</td>\n",
       "      <td>1.810793</td>\n",
       "      <td>-1.247007</td>\n",
       "      <td>2.389510</td>\n",
       "      <td>0.109393</td>\n",
       "      <td>3.474522</td>\n",
       "      <td>2.112939</td>\n",
       "    </tr>\n",
       "    <tr>\n",
       "      <th>...</th>\n",
       "      <td>...</td>\n",
       "      <td>...</td>\n",
       "      <td>...</td>\n",
       "      <td>...</td>\n",
       "      <td>...</td>\n",
       "      <td>...</td>\n",
       "      <td>...</td>\n",
       "      <td>...</td>\n",
       "      <td>...</td>\n",
       "      <td>...</td>\n",
       "      <td>...</td>\n",
       "      <td>...</td>\n",
       "      <td>...</td>\n",
       "      <td>...</td>\n",
       "      <td>...</td>\n",
       "      <td>...</td>\n",
       "      <td>...</td>\n",
       "      <td>...</td>\n",
       "      <td>...</td>\n",
       "      <td>...</td>\n",
       "      <td>...</td>\n",
       "    </tr>\n",
       "    <tr>\n",
       "      <th>2494</th>\n",
       "      <td>-3.817861</td>\n",
       "      <td>-0.239428</td>\n",
       "      <td>0.746890</td>\n",
       "      <td>3.769372</td>\n",
       "      <td>-3.911683</td>\n",
       "      <td>-1.089841</td>\n",
       "      <td>4.595784</td>\n",
       "      <td>7.638681</td>\n",
       "      <td>-0.008133</td>\n",
       "      <td>-2.044059</td>\n",
       "      <td>...</td>\n",
       "      <td>-9.657342</td>\n",
       "      <td>-6.449348</td>\n",
       "      <td>-5.313602</td>\n",
       "      <td>4.494771</td>\n",
       "      <td>0.126138</td>\n",
       "      <td>2.101700</td>\n",
       "      <td>6.230580</td>\n",
       "      <td>-1.396806</td>\n",
       "      <td>-0.461440</td>\n",
       "      <td>5.761937</td>\n",
       "    </tr>\n",
       "    <tr>\n",
       "      <th>2495</th>\n",
       "      <td>-9.151954</td>\n",
       "      <td>8.075422</td>\n",
       "      <td>-2.399617</td>\n",
       "      <td>-0.215038</td>\n",
       "      <td>-0.950830</td>\n",
       "      <td>2.846328</td>\n",
       "      <td>-1.675241</td>\n",
       "      <td>8.118567</td>\n",
       "      <td>-2.116949</td>\n",
       "      <td>2.531726</td>\n",
       "      <td>...</td>\n",
       "      <td>-4.594838</td>\n",
       "      <td>-0.320711</td>\n",
       "      <td>-5.380519</td>\n",
       "      <td>4.325405</td>\n",
       "      <td>2.891069</td>\n",
       "      <td>-3.188484</td>\n",
       "      <td>0.470858</td>\n",
       "      <td>0.608783</td>\n",
       "      <td>-1.036096</td>\n",
       "      <td>5.582513</td>\n",
       "    </tr>\n",
       "    <tr>\n",
       "      <th>2496</th>\n",
       "      <td>-6.159471</td>\n",
       "      <td>4.660232</td>\n",
       "      <td>-0.645190</td>\n",
       "      <td>4.152369</td>\n",
       "      <td>-2.532733</td>\n",
       "      <td>2.405290</td>\n",
       "      <td>3.487813</td>\n",
       "      <td>4.445802</td>\n",
       "      <td>-1.390475</td>\n",
       "      <td>-3.871161</td>\n",
       "      <td>...</td>\n",
       "      <td>-6.191595</td>\n",
       "      <td>-4.549235</td>\n",
       "      <td>-3.465846</td>\n",
       "      <td>-2.776963</td>\n",
       "      <td>0.445750</td>\n",
       "      <td>0.218671</td>\n",
       "      <td>1.592998</td>\n",
       "      <td>0.745639</td>\n",
       "      <td>2.663196</td>\n",
       "      <td>1.005712</td>\n",
       "    </tr>\n",
       "    <tr>\n",
       "      <th>2497</th>\n",
       "      <td>-7.740340</td>\n",
       "      <td>6.042218</td>\n",
       "      <td>-2.544774</td>\n",
       "      <td>3.566805</td>\n",
       "      <td>-3.316587</td>\n",
       "      <td>-1.370130</td>\n",
       "      <td>1.891199</td>\n",
       "      <td>11.305768</td>\n",
       "      <td>2.501465</td>\n",
       "      <td>-6.733449</td>\n",
       "      <td>...</td>\n",
       "      <td>-4.065812</td>\n",
       "      <td>-0.881153</td>\n",
       "      <td>-1.206504</td>\n",
       "      <td>1.473506</td>\n",
       "      <td>4.506341</td>\n",
       "      <td>0.579300</td>\n",
       "      <td>-2.832102</td>\n",
       "      <td>-4.391985</td>\n",
       "      <td>1.271045</td>\n",
       "      <td>1.408142</td>\n",
       "    </tr>\n",
       "    <tr>\n",
       "      <th>2498</th>\n",
       "      <td>-0.364850</td>\n",
       "      <td>13.280326</td>\n",
       "      <td>2.053649</td>\n",
       "      <td>1.247653</td>\n",
       "      <td>-5.085126</td>\n",
       "      <td>-3.170013</td>\n",
       "      <td>1.611099</td>\n",
       "      <td>3.103533</td>\n",
       "      <td>-3.878271</td>\n",
       "      <td>-3.709311</td>\n",
       "      <td>...</td>\n",
       "      <td>-5.089520</td>\n",
       "      <td>2.939326</td>\n",
       "      <td>-6.654023</td>\n",
       "      <td>-3.237755</td>\n",
       "      <td>-5.578530</td>\n",
       "      <td>0.412020</td>\n",
       "      <td>1.718974</td>\n",
       "      <td>0.626340</td>\n",
       "      <td>7.371680</td>\n",
       "      <td>0.681157</td>\n",
       "    </tr>\n",
       "  </tbody>\n",
       "</table>\n",
       "<p>2499 rows × 100 columns</p>\n",
       "</div>"
      ],
      "text/plain": [
       "            0          1         2         3         4         5         6   \\\n",
       "0    -3.389435  -0.618803  1.336954  2.569565  5.932576 -5.216772  8.281100   \n",
       "1    -4.654256   3.025438 -0.027906  3.006806 -4.562694 -0.114651  7.136983   \n",
       "2    -4.485998   0.294977  1.370952 -0.557838 -5.862751  4.198915  1.641994   \n",
       "3    -4.985702   2.043445 -5.351280  2.478656 -1.325007  1.664366  3.200163   \n",
       "4    -1.573304   3.795666 -2.974566  3.673335 -4.161601  0.608247  1.637960   \n",
       "...        ...        ...       ...       ...       ...       ...       ...   \n",
       "2494 -3.817861  -0.239428  0.746890  3.769372 -3.911683 -1.089841  4.595784   \n",
       "2495 -9.151954   8.075422 -2.399617 -0.215038 -0.950830  2.846328 -1.675241   \n",
       "2496 -6.159471   4.660232 -0.645190  4.152369 -2.532733  2.405290  3.487813   \n",
       "2497 -7.740340   6.042218 -2.544774  3.566805 -3.316587 -1.370130  1.891199   \n",
       "2498 -0.364850  13.280326  2.053649  1.247653 -5.085126 -3.170013  1.611099   \n",
       "\n",
       "             7         8         9   ...        90        91        92  \\\n",
       "0      4.856490 -3.661364 -9.153715  ... -5.448255 -4.107651 -0.891458   \n",
       "1      5.205957  0.924291 -1.046082  ... -7.268514 -4.843895 -3.937718   \n",
       "2      6.814697  2.959149 -0.701652  ... -4.353951 -1.778066  2.937758   \n",
       "3      3.310713 -0.721532 -3.012245  ... -4.039396 -4.124896 -3.342163   \n",
       "4      3.827393 -0.182846 -2.323209  ... -3.282023 -4.050768 -2.057132   \n",
       "...         ...       ...       ...  ...       ...       ...       ...   \n",
       "2494   7.638681 -0.008133 -2.044059  ... -9.657342 -6.449348 -5.313602   \n",
       "2495   8.118567 -2.116949  2.531726  ... -4.594838 -0.320711 -5.380519   \n",
       "2496   4.445802 -1.390475 -3.871161  ... -6.191595 -4.549235 -3.465846   \n",
       "2497  11.305768  2.501465 -6.733449  ... -4.065812 -0.881153 -1.206504   \n",
       "2498   3.103533 -3.878271 -3.709311  ... -5.089520  2.939326 -6.654023   \n",
       "\n",
       "            93        94        95        96        97        98        99  \n",
       "0    -1.949338 -4.280981  0.421640 -2.271080 -7.321725  6.956233  6.974032  \n",
       "1     0.218091 -1.185352 -2.021557  2.386004 -2.755498  2.133056  3.756943  \n",
       "2     4.020645  3.405861  5.115898  2.035033 -0.141493  4.664750  4.938824  \n",
       "3    -4.477258  0.748316 -0.315925  1.847817 -2.151012  2.678373  0.017727  \n",
       "4    -2.458235  1.810793 -1.247007  2.389510  0.109393  3.474522  2.112939  \n",
       "...        ...       ...       ...       ...       ...       ...       ...  \n",
       "2494  4.494771  0.126138  2.101700  6.230580 -1.396806 -0.461440  5.761937  \n",
       "2495  4.325405  2.891069 -3.188484  0.470858  0.608783 -1.036096  5.582513  \n",
       "2496 -2.776963  0.445750  0.218671  1.592998  0.745639  2.663196  1.005712  \n",
       "2497  1.473506  4.506341  0.579300 -2.832102 -4.391985  1.271045  1.408142  \n",
       "2498 -3.237755 -5.578530  0.412020  1.718974  0.626340  7.371680  0.681157  \n",
       "\n",
       "[2499 rows x 100 columns]"
      ]
     },
     "execution_count": 22,
     "metadata": {},
     "output_type": "execute_result"
    }
   ],
   "source": [
    "pd.DataFrame(model.user_factors)"
   ]
  },
  {
   "cell_type": "markdown",
   "metadata": {
    "id": "cf_zr75GIHyq"
   },
   "source": [
    "Можно очень быстро посчитать предсказания, перемножив эти 2 матрицы"
   ]
  },
  {
   "cell_type": "code",
   "execution_count": 23,
   "metadata": {
    "id": "XzuTn_FEIHyq",
    "outputId": "6910419f-dc8a-445e-a90f-2b9ccc2fcd65"
   },
   "outputs": [
    {
     "data": {
      "text/plain": [
       "(2499, 5001)"
      ]
     },
     "execution_count": 23,
     "metadata": {},
     "output_type": "execute_result"
    }
   ],
   "source": [
    "fast_recs = model.user_factors @ model.item_factors.T \n",
    "fast_recs.shape"
   ]
  },
  {
   "cell_type": "code",
   "execution_count": 24,
   "metadata": {},
   "outputs": [
    {
     "data": {
      "text/html": [
       "<div>\n",
       "<style scoped>\n",
       "    .dataframe tbody tr th:only-of-type {\n",
       "        vertical-align: middle;\n",
       "    }\n",
       "\n",
       "    .dataframe tbody tr th {\n",
       "        vertical-align: top;\n",
       "    }\n",
       "\n",
       "    .dataframe thead th {\n",
       "        text-align: right;\n",
       "    }\n",
       "</style>\n",
       "<table border=\"1\" class=\"dataframe\">\n",
       "  <thead>\n",
       "    <tr style=\"text-align: right;\">\n",
       "      <th></th>\n",
       "      <th>0</th>\n",
       "      <th>1</th>\n",
       "      <th>2</th>\n",
       "      <th>3</th>\n",
       "      <th>4</th>\n",
       "      <th>5</th>\n",
       "      <th>6</th>\n",
       "      <th>7</th>\n",
       "      <th>8</th>\n",
       "      <th>9</th>\n",
       "      <th>...</th>\n",
       "      <th>4991</th>\n",
       "      <th>4992</th>\n",
       "      <th>4993</th>\n",
       "      <th>4994</th>\n",
       "      <th>4995</th>\n",
       "      <th>4996</th>\n",
       "      <th>4997</th>\n",
       "      <th>4998</th>\n",
       "      <th>4999</th>\n",
       "      <th>5000</th>\n",
       "    </tr>\n",
       "  </thead>\n",
       "  <tbody>\n",
       "    <tr>\n",
       "      <th>0</th>\n",
       "      <td>-0.000934</td>\n",
       "      <td>0.014632</td>\n",
       "      <td>-0.028868</td>\n",
       "      <td>-0.038502</td>\n",
       "      <td>0.006449</td>\n",
       "      <td>-0.000619</td>\n",
       "      <td>0.005074</td>\n",
       "      <td>0.277456</td>\n",
       "      <td>0.127199</td>\n",
       "      <td>-0.074849</td>\n",
       "      <td>...</td>\n",
       "      <td>0.162252</td>\n",
       "      <td>0.023487</td>\n",
       "      <td>0.260964</td>\n",
       "      <td>0.169266</td>\n",
       "      <td>0.361306</td>\n",
       "      <td>0.030338</td>\n",
       "      <td>-0.041545</td>\n",
       "      <td>0.089853</td>\n",
       "      <td>-0.042878</td>\n",
       "      <td>-0.109193</td>\n",
       "    </tr>\n",
       "    <tr>\n",
       "      <th>1</th>\n",
       "      <td>0.000869</td>\n",
       "      <td>0.024811</td>\n",
       "      <td>-0.018583</td>\n",
       "      <td>-0.005638</td>\n",
       "      <td>-0.005863</td>\n",
       "      <td>-0.005870</td>\n",
       "      <td>-0.002275</td>\n",
       "      <td>0.010849</td>\n",
       "      <td>0.072101</td>\n",
       "      <td>0.028912</td>\n",
       "      <td>...</td>\n",
       "      <td>0.016045</td>\n",
       "      <td>0.054291</td>\n",
       "      <td>0.020023</td>\n",
       "      <td>0.073321</td>\n",
       "      <td>0.110577</td>\n",
       "      <td>0.088205</td>\n",
       "      <td>0.093794</td>\n",
       "      <td>-0.090408</td>\n",
       "      <td>0.061151</td>\n",
       "      <td>-0.012930</td>\n",
       "    </tr>\n",
       "    <tr>\n",
       "      <th>2</th>\n",
       "      <td>-0.025090</td>\n",
       "      <td>-0.073365</td>\n",
       "      <td>-0.018539</td>\n",
       "      <td>-0.045217</td>\n",
       "      <td>-0.019289</td>\n",
       "      <td>-0.013334</td>\n",
       "      <td>-0.025451</td>\n",
       "      <td>0.085012</td>\n",
       "      <td>0.013376</td>\n",
       "      <td>0.122213</td>\n",
       "      <td>...</td>\n",
       "      <td>0.002307</td>\n",
       "      <td>-0.075849</td>\n",
       "      <td>0.215881</td>\n",
       "      <td>0.189671</td>\n",
       "      <td>0.156978</td>\n",
       "      <td>0.250538</td>\n",
       "      <td>0.122392</td>\n",
       "      <td>-0.009808</td>\n",
       "      <td>0.099480</td>\n",
       "      <td>-0.030416</td>\n",
       "    </tr>\n",
       "    <tr>\n",
       "      <th>3</th>\n",
       "      <td>0.011122</td>\n",
       "      <td>0.078107</td>\n",
       "      <td>0.040992</td>\n",
       "      <td>0.054428</td>\n",
       "      <td>0.008787</td>\n",
       "      <td>0.013124</td>\n",
       "      <td>-0.001872</td>\n",
       "      <td>0.157387</td>\n",
       "      <td>0.039770</td>\n",
       "      <td>0.022422</td>\n",
       "      <td>...</td>\n",
       "      <td>0.043217</td>\n",
       "      <td>0.038411</td>\n",
       "      <td>0.038633</td>\n",
       "      <td>-0.029221</td>\n",
       "      <td>0.029194</td>\n",
       "      <td>0.100006</td>\n",
       "      <td>0.072926</td>\n",
       "      <td>0.051140</td>\n",
       "      <td>0.018009</td>\n",
       "      <td>0.045836</td>\n",
       "    </tr>\n",
       "    <tr>\n",
       "      <th>4</th>\n",
       "      <td>0.001941</td>\n",
       "      <td>0.025120</td>\n",
       "      <td>-0.012674</td>\n",
       "      <td>0.031299</td>\n",
       "      <td>0.002533</td>\n",
       "      <td>-0.001915</td>\n",
       "      <td>-0.004798</td>\n",
       "      <td>0.014955</td>\n",
       "      <td>0.024810</td>\n",
       "      <td>0.008948</td>\n",
       "      <td>...</td>\n",
       "      <td>-0.001816</td>\n",
       "      <td>-0.002407</td>\n",
       "      <td>-0.006120</td>\n",
       "      <td>0.078087</td>\n",
       "      <td>0.047558</td>\n",
       "      <td>-0.045066</td>\n",
       "      <td>0.051108</td>\n",
       "      <td>-0.017740</td>\n",
       "      <td>0.028279</td>\n",
       "      <td>-0.014436</td>\n",
       "    </tr>\n",
       "    <tr>\n",
       "      <th>...</th>\n",
       "      <td>...</td>\n",
       "      <td>...</td>\n",
       "      <td>...</td>\n",
       "      <td>...</td>\n",
       "      <td>...</td>\n",
       "      <td>...</td>\n",
       "      <td>...</td>\n",
       "      <td>...</td>\n",
       "      <td>...</td>\n",
       "      <td>...</td>\n",
       "      <td>...</td>\n",
       "      <td>...</td>\n",
       "      <td>...</td>\n",
       "      <td>...</td>\n",
       "      <td>...</td>\n",
       "      <td>...</td>\n",
       "      <td>...</td>\n",
       "      <td>...</td>\n",
       "      <td>...</td>\n",
       "      <td>...</td>\n",
       "      <td>...</td>\n",
       "    </tr>\n",
       "    <tr>\n",
       "      <th>2494</th>\n",
       "      <td>0.005558</td>\n",
       "      <td>0.049629</td>\n",
       "      <td>0.058493</td>\n",
       "      <td>0.028319</td>\n",
       "      <td>0.007908</td>\n",
       "      <td>0.020983</td>\n",
       "      <td>-0.002798</td>\n",
       "      <td>0.095236</td>\n",
       "      <td>-0.059885</td>\n",
       "      <td>-0.051162</td>\n",
       "      <td>...</td>\n",
       "      <td>0.116769</td>\n",
       "      <td>-0.107133</td>\n",
       "      <td>0.159182</td>\n",
       "      <td>0.173368</td>\n",
       "      <td>0.247791</td>\n",
       "      <td>0.255404</td>\n",
       "      <td>0.065801</td>\n",
       "      <td>-0.039049</td>\n",
       "      <td>0.127311</td>\n",
       "      <td>0.170338</td>\n",
       "    </tr>\n",
       "    <tr>\n",
       "      <th>2495</th>\n",
       "      <td>0.038604</td>\n",
       "      <td>0.134976</td>\n",
       "      <td>0.093332</td>\n",
       "      <td>-0.009272</td>\n",
       "      <td>0.019379</td>\n",
       "      <td>0.030628</td>\n",
       "      <td>0.056574</td>\n",
       "      <td>0.092012</td>\n",
       "      <td>0.102749</td>\n",
       "      <td>0.240999</td>\n",
       "      <td>...</td>\n",
       "      <td>0.003368</td>\n",
       "      <td>0.364253</td>\n",
       "      <td>0.108081</td>\n",
       "      <td>0.124612</td>\n",
       "      <td>0.185163</td>\n",
       "      <td>0.273456</td>\n",
       "      <td>0.050932</td>\n",
       "      <td>0.060868</td>\n",
       "      <td>0.062599</td>\n",
       "      <td>0.132974</td>\n",
       "    </tr>\n",
       "    <tr>\n",
       "      <th>2496</th>\n",
       "      <td>0.053029</td>\n",
       "      <td>0.051330</td>\n",
       "      <td>-0.003689</td>\n",
       "      <td>0.022754</td>\n",
       "      <td>0.005063</td>\n",
       "      <td>-0.000293</td>\n",
       "      <td>0.013132</td>\n",
       "      <td>-0.106960</td>\n",
       "      <td>-0.071755</td>\n",
       "      <td>0.005906</td>\n",
       "      <td>...</td>\n",
       "      <td>0.084233</td>\n",
       "      <td>0.122397</td>\n",
       "      <td>0.076750</td>\n",
       "      <td>0.099786</td>\n",
       "      <td>0.096356</td>\n",
       "      <td>0.165355</td>\n",
       "      <td>0.080963</td>\n",
       "      <td>0.066922</td>\n",
       "      <td>0.057314</td>\n",
       "      <td>0.089499</td>\n",
       "    </tr>\n",
       "    <tr>\n",
       "      <th>2497</th>\n",
       "      <td>-0.009526</td>\n",
       "      <td>-0.019538</td>\n",
       "      <td>-0.040533</td>\n",
       "      <td>-0.041564</td>\n",
       "      <td>-0.014050</td>\n",
       "      <td>-0.017013</td>\n",
       "      <td>0.013896</td>\n",
       "      <td>0.107463</td>\n",
       "      <td>0.263608</td>\n",
       "      <td>0.070318</td>\n",
       "      <td>...</td>\n",
       "      <td>-0.020393</td>\n",
       "      <td>-0.064285</td>\n",
       "      <td>0.087855</td>\n",
       "      <td>-0.019621</td>\n",
       "      <td>0.038680</td>\n",
       "      <td>0.112160</td>\n",
       "      <td>0.191252</td>\n",
       "      <td>0.050680</td>\n",
       "      <td>0.069402</td>\n",
       "      <td>0.246004</td>\n",
       "    </tr>\n",
       "    <tr>\n",
       "      <th>2498</th>\n",
       "      <td>-0.002068</td>\n",
       "      <td>0.028997</td>\n",
       "      <td>0.004397</td>\n",
       "      <td>0.080999</td>\n",
       "      <td>0.006376</td>\n",
       "      <td>0.004601</td>\n",
       "      <td>-0.011577</td>\n",
       "      <td>-0.058091</td>\n",
       "      <td>0.291912</td>\n",
       "      <td>-0.023256</td>\n",
       "      <td>...</td>\n",
       "      <td>0.072889</td>\n",
       "      <td>0.098070</td>\n",
       "      <td>0.143989</td>\n",
       "      <td>0.197955</td>\n",
       "      <td>0.193642</td>\n",
       "      <td>0.116065</td>\n",
       "      <td>0.137555</td>\n",
       "      <td>0.052615</td>\n",
       "      <td>0.214500</td>\n",
       "      <td>-0.081897</td>\n",
       "    </tr>\n",
       "  </tbody>\n",
       "</table>\n",
       "<p>2499 rows × 5001 columns</p>\n",
       "</div>"
      ],
      "text/plain": [
       "          0         1         2         3         4         5         6     \\\n",
       "0    -0.000934  0.014632 -0.028868 -0.038502  0.006449 -0.000619  0.005074   \n",
       "1     0.000869  0.024811 -0.018583 -0.005638 -0.005863 -0.005870 -0.002275   \n",
       "2    -0.025090 -0.073365 -0.018539 -0.045217 -0.019289 -0.013334 -0.025451   \n",
       "3     0.011122  0.078107  0.040992  0.054428  0.008787  0.013124 -0.001872   \n",
       "4     0.001941  0.025120 -0.012674  0.031299  0.002533 -0.001915 -0.004798   \n",
       "...        ...       ...       ...       ...       ...       ...       ...   \n",
       "2494  0.005558  0.049629  0.058493  0.028319  0.007908  0.020983 -0.002798   \n",
       "2495  0.038604  0.134976  0.093332 -0.009272  0.019379  0.030628  0.056574   \n",
       "2496  0.053029  0.051330 -0.003689  0.022754  0.005063 -0.000293  0.013132   \n",
       "2497 -0.009526 -0.019538 -0.040533 -0.041564 -0.014050 -0.017013  0.013896   \n",
       "2498 -0.002068  0.028997  0.004397  0.080999  0.006376  0.004601 -0.011577   \n",
       "\n",
       "          7         8         9     ...      4991      4992      4993  \\\n",
       "0     0.277456  0.127199 -0.074849  ...  0.162252  0.023487  0.260964   \n",
       "1     0.010849  0.072101  0.028912  ...  0.016045  0.054291  0.020023   \n",
       "2     0.085012  0.013376  0.122213  ...  0.002307 -0.075849  0.215881   \n",
       "3     0.157387  0.039770  0.022422  ...  0.043217  0.038411  0.038633   \n",
       "4     0.014955  0.024810  0.008948  ... -0.001816 -0.002407 -0.006120   \n",
       "...        ...       ...       ...  ...       ...       ...       ...   \n",
       "2494  0.095236 -0.059885 -0.051162  ...  0.116769 -0.107133  0.159182   \n",
       "2495  0.092012  0.102749  0.240999  ...  0.003368  0.364253  0.108081   \n",
       "2496 -0.106960 -0.071755  0.005906  ...  0.084233  0.122397  0.076750   \n",
       "2497  0.107463  0.263608  0.070318  ... -0.020393 -0.064285  0.087855   \n",
       "2498 -0.058091  0.291912 -0.023256  ...  0.072889  0.098070  0.143989   \n",
       "\n",
       "          4994      4995      4996      4997      4998      4999      5000  \n",
       "0     0.169266  0.361306  0.030338 -0.041545  0.089853 -0.042878 -0.109193  \n",
       "1     0.073321  0.110577  0.088205  0.093794 -0.090408  0.061151 -0.012930  \n",
       "2     0.189671  0.156978  0.250538  0.122392 -0.009808  0.099480 -0.030416  \n",
       "3    -0.029221  0.029194  0.100006  0.072926  0.051140  0.018009  0.045836  \n",
       "4     0.078087  0.047558 -0.045066  0.051108 -0.017740  0.028279 -0.014436  \n",
       "...        ...       ...       ...       ...       ...       ...       ...  \n",
       "2494  0.173368  0.247791  0.255404  0.065801 -0.039049  0.127311  0.170338  \n",
       "2495  0.124612  0.185163  0.273456  0.050932  0.060868  0.062599  0.132974  \n",
       "2496  0.099786  0.096356  0.165355  0.080963  0.066922  0.057314  0.089499  \n",
       "2497 -0.019621  0.038680  0.112160  0.191252  0.050680  0.069402  0.246004  \n",
       "2498  0.197955  0.193642  0.116065  0.137555  0.052615  0.214500 -0.081897  \n",
       "\n",
       "[2499 rows x 5001 columns]"
      ]
     },
     "execution_count": 24,
     "metadata": {},
     "output_type": "execute_result"
    }
   ],
   "source": [
    "pd.DataFrame(fast_recs)"
   ]
  },
  {
   "cell_type": "code",
   "execution_count": 26,
   "metadata": {
    "id": "V6d15toQIHyr"
   },
   "outputs": [],
   "source": [
    "import numpy as np\n",
    "import pandas as pd\n",
    "from matplotlib.pyplot import cm\n",
    "import pickle\n",
    "\n",
    "from scipy.spatial.distance import cdist\n",
    "\n",
    "from sklearn.decomposition import PCA\n",
    "from sklearn.manifold import TSNE\n",
    "\n",
    "import seaborn as sns\n",
    "\n",
    "\n",
    "def reduce_dims(df, dims=2, method='pca'):\n",
    "    \n",
    "    assert method in ['pca', 'tsne'], 'Неверно указан метод'\n",
    "    \n",
    "    if method=='pca':\n",
    "        pca = PCA(n_components=dims)\n",
    "        components = pca.fit_transform(df)\n",
    "    elif method == 'tsne':\n",
    "        tsne = TSNE(n_components=dims, learning_rate=250, random_state=42)\n",
    "        components = tsne.fit_transform(df)\n",
    "    else:\n",
    "        print('Error')\n",
    "        \n",
    "    colnames = ['component_' + str(i) for i in range(1, dims+1)]\n",
    "    return pd.DataFrame(data = components, columns = colnames) \n",
    "\n",
    "\n",
    "def display_components_in_2D_space(components_df, labels='category', marker='D'):\n",
    "    \n",
    "    groups = components_df.groupby(labels)\n",
    "\n",
    "    # Plot\n",
    "    fig, ax = plt.subplots(figsize=(12,8))\n",
    "    ax.margins(0.05) # Optional, just adds 5% padding to the autoscaling\n",
    "    for name, group in groups:\n",
    "        ax.plot(group.component_1, group.component_2, \n",
    "                marker='o', ms=6,\n",
    "                linestyle='',\n",
    "                alpha=0.7,\n",
    "                label=name)\n",
    "    ax.legend(loc='center left', bbox_to_anchor=(1.02, 0.5))\n",
    "\n",
    "    plt.xlabel('component_1')\n",
    "    plt.ylabel('component_2') \n",
    "    plt.show()"
   ]
  },
  {
   "cell_type": "code",
   "execution_count": 27,
   "metadata": {
    "id": "Gbb8mdmQIHys",
    "outputId": "af54bb77-0188-4a4b-85bc-d0bb144c47fc"
   },
   "outputs": [
    {
     "data": {
      "text/plain": [
       "(5001, 100)"
      ]
     },
     "execution_count": 27,
     "metadata": {},
     "output_type": "execute_result"
    }
   ],
   "source": [
    "model.item_factors.shape"
   ]
  },
  {
   "cell_type": "code",
   "execution_count": 28,
   "metadata": {
    "id": "xhT9pq1kIHyt"
   },
   "outputs": [],
   "source": [
    "category = []\n",
    "\n",
    "for idx in range(model.item_factors.shape[0]):\n",
    "\n",
    "    try:\n",
    "        cat = item_features.loc[item_features['item_id'] == id_to_itemid[idx], 'department'].values[0]\n",
    "        category.append(cat)\n",
    "    except:\n",
    "        category.append('UNKNOWN')"
   ]
  },
  {
   "cell_type": "code",
   "execution_count": 29,
   "metadata": {},
   "outputs": [
    {
     "name": "stdout",
     "output_type": "stream",
     "text": [
      "['MISC SALES TRAN', 'KIOSK-GAS', 'MISC SALES TRAN', 'KIOSK-GAS', 'MISC SALES TRAN', 'MISC SALES TRAN', 'KIOSK-GAS', 'GROCERY', 'GROCERY', 'GROCERY']\n"
     ]
    }
   ],
   "source": [
    "print(category[:10])"
   ]
  },
  {
   "cell_type": "code",
   "execution_count": 30,
   "metadata": {
    "id": "B8oxR_P0IHyt",
    "outputId": "9f7f6460-25fc-4d01-b1c0-37854888c692"
   },
   "outputs": [
    {
     "name": "stderr",
     "output_type": "stream",
     "text": [
      "/home/nikita/.local/lib/python3.8/site-packages/sklearn/manifold/_t_sne.py:780: FutureWarning: The default initialization in TSNE will change from 'random' to 'pca' in 1.2.\n",
      "  warnings.warn(\n"
     ]
    },
    {
     "data": {
      "image/png": "[encoded data removed]",
      "text/plain": [
       "<Figure size 864x576 with 1 Axes>"
      ]
     },
     "metadata": {
      "needs_background": "light"
     },
     "output_type": "display_data"
    },
    {
     "name": "stdout",
     "output_type": "stream",
     "text": [
      "CPU times: user 1min 58s, sys: 2.69 s, total: 2min 1s\n",
      "Wall time: 37.6 s\n"
     ]
    }
   ],
   "source": [
    "%%time\n",
    "item_emb_tsne = reduce_dims(model.item_factors, dims=2, method='tsne') # 5001 х 100  ---> 5001 x 2\n",
    "item_emb_tsne['category'] = category  # Добавляем категорию\n",
    "item_emb_tsne = item_emb_tsne[item_emb_tsne['category'] != 'UNKNOWN']\n",
    "\n",
    "display_components_in_2D_space(item_emb_tsne, labels='category')"
   ]
  },
  {
   "cell_type": "markdown",
   "metadata": {
    "id": "21LfCjpxIHyt"
   },
   "source": [
    "Нарисуем все, кроме GROCERY"
   ]
  },
  {
   "cell_type": "code",
   "execution_count": 31,
   "metadata": {
    "id": "BNy3Fb1DIHyu",
    "outputId": "cd92302c-3a4e-4345-9c8e-e95a4fa44770"
   },
   "outputs": [
    {
     "data": {
      "image/png": "[encoded data removed]",
      "text/plain": [
       "<Figure size 864x576 with 1 Axes>"
      ]
     },
     "metadata": {
      "needs_background": "light"
     },
     "output_type": "display_data"
    }
   ],
   "source": [
    "display_components_in_2D_space(item_emb_tsne[item_emb_tsne['category'] != 'GROCERY'], labels='category')"
   ]
  },
  {
   "cell_type": "markdown",
   "metadata": {
    "id": "DxZJ7HCOIHyu"
   },
   "source": [
    "Нарисуем несколько конкретных категорий"
   ]
  },
  {
   "cell_type": "code",
   "execution_count": 32,
   "metadata": {
    "id": "FeQlyTdTIHyu",
    "outputId": "e6aab935-1525-4202-b2a4-f2a352fd17e3"
   },
   "outputs": [
    {
     "data": {
      "image/png": "[encoded data removed]",
      "text/plain": [
       "<Figure size 864x576 with 1 Axes>"
      ]
     },
     "metadata": {
      "needs_background": "light"
     },
     "output_type": "display_data"
    }
   ],
   "source": [
    "interesting_cats = ['PASTRY', 'PRODUCE', 'DRUG GM', 'FLORAL']\n",
    "\n",
    "display_components_in_2D_space(item_emb_tsne[item_emb_tsne['category'].isin(interesting_cats)], \n",
    "                                             labels='category')"
   ]
  },
  {
   "cell_type": "code",
   "execution_count": 33,
   "metadata": {},
   "outputs": [
    {
     "data": {
      "image/png": "[encoded data removed]",
      "text/plain": [
       "<Figure size 864x576 with 1 Axes>"
      ]
     },
     "metadata": {
      "needs_background": "light"
     },
     "output_type": "display_data"
    }
   ],
   "source": [
    "interesting_cats = ['PASTRY', 'PRODUCE', 'DRUG GM', 'FLORAL']\n",
    "\n",
    "display_components_in_2D_space(item_emb_tsne[item_emb_tsne['category'].isin(interesting_cats)], \n",
    "                                             labels='category')"
   ]
  },
  {
   "cell_type": "code",
   "execution_count": 34,
   "metadata": {},
   "outputs": [
    {
     "data": {
      "image/png": "[encoded data removed]",
      "text/plain": [
       "<Figure size 864x576 with 1 Axes>"
      ]
     },
     "metadata": {
      "needs_background": "light"
     },
     "output_type": "display_data"
    }
   ],
   "source": [
    "interesting_cats = ['PASTRY', 'PRODUCE', 'DRUG GM', 'FLORAL']\n",
    "\n",
    "display_components_in_2D_space(item_emb_tsne[item_emb_tsne['category'].isin(interesting_cats)], \n",
    "                                             labels='category')"
   ]
  },
  {
   "cell_type": "markdown",
   "metadata": {
    "id": "eelXXrgiIHyv"
   },
   "source": [
    "На самом деле, я бы сказал, что **результат средний**:\n",
    "- Модель выучила похожесть только небольшой части товаров"
   ]
  },
  {
   "cell_type": "code",
   "execution_count": 35,
   "metadata": {
    "id": "xK9UDIfsIHyv",
    "outputId": "ef3fab8f-4734-4ad1-e47a-f7400e19ca81"
   },
   "outputs": [
    {
     "data": {
      "text/html": [
       "<div>\n",
       "<style scoped>\n",
       "    .dataframe tbody tr th:only-of-type {\n",
       "        vertical-align: middle;\n",
       "    }\n",
       "\n",
       "    .dataframe tbody tr th {\n",
       "        vertical-align: top;\n",
       "    }\n",
       "\n",
       "    .dataframe thead th {\n",
       "        text-align: right;\n",
       "    }\n",
       "</style>\n",
       "<table border=\"1\" class=\"dataframe\">\n",
       "  <thead>\n",
       "    <tr style=\"text-align: right;\">\n",
       "      <th></th>\n",
       "      <th>component_1</th>\n",
       "      <th>component_2</th>\n",
       "      <th>category</th>\n",
       "    </tr>\n",
       "  </thead>\n",
       "  <tbody>\n",
       "    <tr>\n",
       "      <th>0</th>\n",
       "      <td>-7.123420</td>\n",
       "      <td>-1.197417</td>\n",
       "      <td>MISC SALES TRAN</td>\n",
       "    </tr>\n",
       "    <tr>\n",
       "      <th>1</th>\n",
       "      <td>-7.674127</td>\n",
       "      <td>1.206121</td>\n",
       "      <td>KIOSK-GAS</td>\n",
       "    </tr>\n",
       "  </tbody>\n",
       "</table>\n",
       "</div>"
      ],
      "text/plain": [
       "   component_1  component_2         category\n",
       "0    -7.123420    -1.197417  MISC SALES TRAN\n",
       "1    -7.674127     1.206121        KIOSK-GAS"
      ]
     },
     "execution_count": 35,
     "metadata": {},
     "output_type": "execute_result"
    }
   ],
   "source": [
    "item_emb_tsne.head(2)"
   ]
  },
  {
   "cell_type": "markdown",
   "metadata": {
    "id": "EQOQN7D5IHyw"
   },
   "source": [
    "recommend_all делает перемножение, но еще и сортирует и выбирает топ-N"
   ]
  },
  {
   "cell_type": "code",
   "execution_count": 36,
   "metadata": {
    "colab": {
     "referenced_widgets": [
      "7d500b748414417f93b8f936f582ba96"
     ]
    },
    "id": "s8sUJSCzIHyw",
    "outputId": "192a9709-cc88-4492-d321-8e2063e1ec67"
   },
   "outputs": [
    {
     "data": {
      "application/vnd.jupyter.widget-view+json": {
       "model_id": "6718228aabd847b793275e74f0865d78",
       "version_major": 2,
       "version_minor": 0
      },
      "text/plain": [
       "  0%|          | 0/2499 [00:00<?, ?it/s]"
      ]
     },
     "metadata": {},
     "output_type": "display_data"
    },
    {
     "name": "stdout",
     "output_type": "stream",
     "text": [
      "CPU times: user 2min 39s, sys: 2min 15s, total: 4min 54s\n",
      "Wall time: 1min 16s\n"
     ]
    }
   ],
   "source": [
    "%%time\n",
    "recommendations = model.recommend_all(N=5, \n",
    "                                      user_items=csr_matrix(user_item_matrix).tocsr(),\n",
    "                                      filter_already_liked_items=True, \n",
    "                                      filter_items=None, \n",
    "                                      recalculate_user=True,\n",
    "                                      show_progress=True,\n",
    "                                      batch_size=500)"
   ]
  },
  {
   "cell_type": "code",
   "execution_count": 37,
   "metadata": {},
   "outputs": [
    {
     "data": {
      "text/plain": [
       "(2499, 5)"
      ]
     },
     "execution_count": 37,
     "metadata": {},
     "output_type": "execute_result"
    }
   ],
   "source": [
    "recommendations.shape"
   ]
  },
  {
   "cell_type": "code",
   "execution_count": 38,
   "metadata": {},
   "outputs": [
    {
     "data": {
      "text/html": [
       "<div>\n",
       "<style scoped>\n",
       "    .dataframe tbody tr th:only-of-type {\n",
       "        vertical-align: middle;\n",
       "    }\n",
       "\n",
       "    .dataframe tbody tr th {\n",
       "        vertical-align: top;\n",
       "    }\n",
       "\n",
       "    .dataframe thead th {\n",
       "        text-align: right;\n",
       "    }\n",
       "</style>\n",
       "<table border=\"1\" class=\"dataframe\">\n",
       "  <thead>\n",
       "    <tr style=\"text-align: right;\">\n",
       "      <th></th>\n",
       "      <th>0</th>\n",
       "      <th>1</th>\n",
       "      <th>2</th>\n",
       "      <th>3</th>\n",
       "      <th>4</th>\n",
       "    </tr>\n",
       "  </thead>\n",
       "  <tbody>\n",
       "    <tr>\n",
       "      <th>0</th>\n",
       "      <td>3031</td>\n",
       "      <td>192</td>\n",
       "      <td>3616</td>\n",
       "      <td>912</td>\n",
       "      <td>832</td>\n",
       "    </tr>\n",
       "    <tr>\n",
       "      <th>1</th>\n",
       "      <td>2148</td>\n",
       "      <td>2307</td>\n",
       "      <td>2927</td>\n",
       "      <td>215</td>\n",
       "      <td>3200</td>\n",
       "    </tr>\n",
       "    <tr>\n",
       "      <th>2</th>\n",
       "      <td>1242</td>\n",
       "      <td>1516</td>\n",
       "      <td>558</td>\n",
       "      <td>2765</td>\n",
       "      <td>3029</td>\n",
       "    </tr>\n",
       "    <tr>\n",
       "      <th>3</th>\n",
       "      <td>3408</td>\n",
       "      <td>4346</td>\n",
       "      <td>1801</td>\n",
       "      <td>3587</td>\n",
       "      <td>110</td>\n",
       "    </tr>\n",
       "    <tr>\n",
       "      <th>4</th>\n",
       "      <td>3408</td>\n",
       "      <td>2148</td>\n",
       "      <td>3133</td>\n",
       "      <td>2307</td>\n",
       "      <td>3587</td>\n",
       "    </tr>\n",
       "    <tr>\n",
       "      <th>...</th>\n",
       "      <td>...</td>\n",
       "      <td>...</td>\n",
       "      <td>...</td>\n",
       "      <td>...</td>\n",
       "      <td>...</td>\n",
       "    </tr>\n",
       "    <tr>\n",
       "      <th>2494</th>\n",
       "      <td>1801</td>\n",
       "      <td>2434</td>\n",
       "      <td>3557</td>\n",
       "      <td>1029</td>\n",
       "      <td>3995</td>\n",
       "    </tr>\n",
       "    <tr>\n",
       "      <th>2495</th>\n",
       "      <td>1419</td>\n",
       "      <td>1242</td>\n",
       "      <td>70</td>\n",
       "      <td>3322</td>\n",
       "      <td>650</td>\n",
       "    </tr>\n",
       "    <tr>\n",
       "      <th>2496</th>\n",
       "      <td>3587</td>\n",
       "      <td>4346</td>\n",
       "      <td>2148</td>\n",
       "      <td>558</td>\n",
       "      <td>3133</td>\n",
       "    </tr>\n",
       "    <tr>\n",
       "      <th>2497</th>\n",
       "      <td>2847</td>\n",
       "      <td>300</td>\n",
       "      <td>657</td>\n",
       "      <td>1486</td>\n",
       "      <td>1927</td>\n",
       "    </tr>\n",
       "    <tr>\n",
       "      <th>2498</th>\n",
       "      <td>558</td>\n",
       "      <td>2454</td>\n",
       "      <td>1328</td>\n",
       "      <td>2434</td>\n",
       "      <td>575</td>\n",
       "    </tr>\n",
       "  </tbody>\n",
       "</table>\n",
       "<p>2499 rows × 5 columns</p>\n",
       "</div>"
      ],
      "text/plain": [
       "         0     1     2     3     4\n",
       "0     3031   192  3616   912   832\n",
       "1     2148  2307  2927   215  3200\n",
       "2     1242  1516   558  2765  3029\n",
       "3     3408  4346  1801  3587   110\n",
       "4     3408  2148  3133  2307  3587\n",
       "...    ...   ...   ...   ...   ...\n",
       "2494  1801  2434  3557  1029  3995\n",
       "2495  1419  1242    70  3322   650\n",
       "2496  3587  4346  2148   558  3133\n",
       "2497  2847   300   657  1486  1927\n",
       "2498   558  2454  1328  2434   575\n",
       "\n",
       "[2499 rows x 5 columns]"
      ]
     },
     "execution_count": 38,
     "metadata": {},
     "output_type": "execute_result"
    }
   ],
   "source": [
    "pd.DataFrame(recommendations)"
   ]
  },
  {
   "cell_type": "code",
   "execution_count": 40,
   "metadata": {
    "id": "ZqpPTlojIHyx"
   },
   "outputs": [],
   "source": [
    "item_1 = model.item_factors[1]\n",
    "item_2 = model.item_factors[2]"
   ]
  },
  {
   "cell_type": "code",
   "execution_count": 41,
   "metadata": {},
   "outputs": [
    {
     "data": {
      "text/plain": [
       "(100,)"
      ]
     },
     "execution_count": 41,
     "metadata": {},
     "output_type": "execute_result"
    }
   ],
   "source": [
    "item_1.shape"
   ]
  },
  {
   "cell_type": "code",
   "execution_count": 42,
   "metadata": {},
   "outputs": [
    {
     "data": {
      "text/plain": [
       "array([ 0.00042855,  0.0022305 , -0.00063571,  0.00522853,  0.00604275,\n",
       "        0.00752905,  0.00281951, -0.00179616,  0.00270967,  0.00588776,\n",
       "        0.00580631,  0.00348307,  0.00107088,  0.00072161,  0.00453277,\n",
       "        0.00989932,  0.00259638,  0.00546128,  0.00852091,  0.00435642,\n",
       "       -0.0007153 ,  0.00058709,  0.00598352,  0.00199767,  0.00606951,\n",
       "        0.00095828,  0.00308081,  0.00175446,  0.00126115,  0.00110948,\n",
       "        0.00564786, -0.00128709, -0.00170706,  0.00836693,  0.00598135,\n",
       "        0.00613975,  0.00176237,  0.00365778,  0.00790632,  0.01052157,\n",
       "        0.00602423,  0.00152149,  0.00603083,  0.00207965,  0.00110444,\n",
       "        0.00492331,  0.00945339,  0.00363962, -0.00074136,  0.00312465,\n",
       "        0.00331511,  0.00237167,  0.00536004,  0.0026772 , -0.00293317,\n",
       "        0.0065264 ,  0.00062846,  0.00429301,  0.00133959,  0.00136124,\n",
       "        0.00238365, -0.00207961,  0.00529409,  0.00557166,  0.00589995,\n",
       "        0.00500226,  0.0034056 ,  0.0034646 ,  0.00465257, -0.00580518,\n",
       "        0.00983832,  0.00913802,  0.00880075,  0.00169313, -0.00136083,\n",
       "        0.00309322,  0.00241112,  0.00195563,  0.00636   ,  0.00623641,\n",
       "       -0.00037697,  0.00450077,  0.00313772,  0.00187745,  0.00462384,\n",
       "        0.00694285,  0.00467148,  0.00159718,  0.00630566,  0.00148325,\n",
       "       -0.00077895,  0.00934543,  0.00244211, -0.00064213,  0.00500893,\n",
       "        0.00180875,  0.00134288,  0.00152964,  0.00414428,  0.00375724],\n",
       "      dtype=float32)"
      ]
     },
     "execution_count": 42,
     "metadata": {},
     "output_type": "execute_result"
    }
   ],
   "source": [
    "item_1"
   ]
  },
  {
   "cell_type": "markdown",
   "metadata": {
    "id": "IDtmV7QxIHyx"
   },
   "source": [
    "*Посмотрите также / Похожие товары*"
   ]
  },
  {
   "cell_type": "code",
   "execution_count": 43,
   "metadata": {},
   "outputs": [],
   "source": [
    "example_item_row_id = 3606"
   ]
  },
  {
   "cell_type": "code",
   "execution_count": 44,
   "metadata": {
    "id": "FG43lphYIHyx",
    "outputId": "c548ef47-f17c-4000-a4cf-3826e088f08b"
   },
   "outputs": [],
   "source": [
    "closest_items = [ id_to_itemid[row_id] for row_id, score in model.similar_items(example_item_row_id, N=5)]"
   ]
  },
  {
   "cell_type": "code",
   "execution_count": 45,
   "metadata": {},
   "outputs": [
    {
     "data": {
      "text/html": [
       "<div>\n",
       "<style scoped>\n",
       "    .dataframe tbody tr th:only-of-type {\n",
       "        vertical-align: middle;\n",
       "    }\n",
       "\n",
       "    .dataframe tbody tr th {\n",
       "        vertical-align: top;\n",
       "    }\n",
       "\n",
       "    .dataframe thead th {\n",
       "        text-align: right;\n",
       "    }\n",
       "</style>\n",
       "<table border=\"1\" class=\"dataframe\">\n",
       "  <thead>\n",
       "    <tr style=\"text-align: right;\">\n",
       "      <th></th>\n",
       "      <th>item_id</th>\n",
       "      <th>manufacturer</th>\n",
       "      <th>department</th>\n",
       "      <th>brand</th>\n",
       "      <th>commodity_desc</th>\n",
       "      <th>sub_commodity_desc</th>\n",
       "      <th>curr_size_of_product</th>\n",
       "    </tr>\n",
       "  </thead>\n",
       "  <tbody>\n",
       "    <tr>\n",
       "      <th>8143</th>\n",
       "      <td>839040</td>\n",
       "      <td>942</td>\n",
       "      <td>GROCERY</td>\n",
       "      <td>National</td>\n",
       "      <td>CONDIMENTS/SAUCES</td>\n",
       "      <td>HOT MUSTARD/SPECIALTY MUSTAR</td>\n",
       "      <td>12 OZ</td>\n",
       "    </tr>\n",
       "    <tr>\n",
       "      <th>17055</th>\n",
       "      <td>917832</td>\n",
       "      <td>213</td>\n",
       "      <td>GROCERY</td>\n",
       "      <td>National</td>\n",
       "      <td>MEAT - SHELF STABLE</td>\n",
       "      <td>CHILI: CANNED</td>\n",
       "      <td>15 OZ</td>\n",
       "    </tr>\n",
       "    <tr>\n",
       "      <th>25270</th>\n",
       "      <td>990804</td>\n",
       "      <td>69</td>\n",
       "      <td>GROCERY</td>\n",
       "      <td>Private</td>\n",
       "      <td>VEGETABLES - SHELF STABLE</td>\n",
       "      <td>MUSHROOMS CND &amp; GLASS</td>\n",
       "      <td>4.5 OZ</td>\n",
       "    </tr>\n",
       "    <tr>\n",
       "      <th>37579</th>\n",
       "      <td>1100265</td>\n",
       "      <td>69</td>\n",
       "      <td>GROCERY</td>\n",
       "      <td>Private</td>\n",
       "      <td>CHEESE</td>\n",
       "      <td>NATURAL CHEESE EXACT WT SLICES</td>\n",
       "      <td>10 OZ</td>\n",
       "    </tr>\n",
       "    <tr>\n",
       "      <th>41452</th>\n",
       "      <td>1135476</td>\n",
       "      <td>673</td>\n",
       "      <td>PRODUCE</td>\n",
       "      <td>National</td>\n",
       "      <td>BERRIES</td>\n",
       "      <td>STRAWBERRIES</td>\n",
       "      <td>1 LB</td>\n",
       "    </tr>\n",
       "  </tbody>\n",
       "</table>\n",
       "</div>"
      ],
      "text/plain": [
       "       item_id  manufacturer department     brand             commodity_desc  \\\n",
       "8143    839040           942    GROCERY  National          CONDIMENTS/SAUCES   \n",
       "17055   917832           213    GROCERY  National        MEAT - SHELF STABLE   \n",
       "25270   990804            69    GROCERY   Private  VEGETABLES - SHELF STABLE   \n",
       "37579  1100265            69    GROCERY   Private                     CHEESE   \n",
       "41452  1135476           673    PRODUCE  National                    BERRIES   \n",
       "\n",
       "                   sub_commodity_desc curr_size_of_product  \n",
       "8143     HOT MUSTARD/SPECIALTY MUSTAR                12 OZ  \n",
       "17055                   CHILI: CANNED                15 OZ  \n",
       "25270           MUSHROOMS CND & GLASS               4.5 OZ  \n",
       "37579  NATURAL CHEESE EXACT WT SLICES                10 OZ  \n",
       "41452                    STRAWBERRIES                 1 LB  "
      ]
     },
     "execution_count": 45,
     "metadata": {},
     "output_type": "execute_result"
    }
   ],
   "source": [
    "item_features[item_features.item_id.isin(closest_items)]"
   ]
  },
  {
   "cell_type": "markdown",
   "metadata": {
    "id": "z3kvH35nIHyy"
   },
   "source": [
    "*Вашим друзьям нравится / Похожим пользователям нравится / ...*"
   ]
  },
  {
   "cell_type": "markdown",
   "metadata": {
    "id": "I6pbr6dUIHyy"
   },
   "source": [
    "Пользователь --> похожих пользовтелей --> рекомендовать те товары, которые купили похожие юзеры"
   ]
  },
  {
   "cell_type": "code",
   "execution_count": 46,
   "metadata": {
    "id": "StEG6KrkIHyy",
    "outputId": "78aef638-88ce-4a7f-d430-3fef25cdbc12"
   },
   "outputs": [
    {
     "data": {
      "text/plain": [
       "[(9, 1.0000001),\n",
       " (354, 0.9745565),\n",
       " (239, 0.9742911),\n",
       " (1627, 0.97116846),\n",
       " (1380, 0.9706659)]"
      ]
     },
     "execution_count": 46,
     "metadata": {},
     "output_type": "execute_result"
    }
   ],
   "source": [
    "model.similar_users(userid_to_id[10], N=5)"
   ]
  },
  {
   "cell_type": "markdown",
   "metadata": {
    "id": "dpSbiUfUIHyz"
   },
   "source": [
    "### 2. TF-IDF взвешивание"
   ]
  },
  {
   "cell_type": "code",
   "execution_count": 47,
   "metadata": {
    "id": "4hA_6DX7IHyz"
   },
   "outputs": [],
   "source": [
    "user_item_matrix = tfidf_weight(user_item_matrix.T).T  # Применяется к item-user матрице ! "
   ]
  },
  {
   "cell_type": "code",
   "execution_count": 48,
   "metadata": {
    "colab": {
     "referenced_widgets": [
      "6fee8130b62245e0b0a0597124b6c3ac"
     ]
    },
    "id": "baK0yoTwIHyz",
    "outputId": "16a60037-5061-44f4-9f7e-8a431bb55b43"
   },
   "outputs": [
    {
     "data": {
      "application/vnd.jupyter.widget-view+json": {
       "model_id": "4670c1b08d3b426aa184c12ff990c33e",
       "version_major": 2,
       "version_minor": 0
      },
      "text/plain": [
       "  0%|          | 0/15 [00:00<?, ?it/s]"
      ]
     },
     "metadata": {},
     "output_type": "display_data"
    },
    {
     "name": "stdout",
     "output_type": "stream",
     "text": [
      "CPU times: user 3min 3s, sys: 2min 23s, total: 5min 26s\n",
      "Wall time: 1min 26s\n"
     ]
    },
    {
     "data": {
      "text/plain": [
       "0.16464250734573949"
      ]
     },
     "execution_count": 48,
     "metadata": {},
     "output_type": "execute_result"
    }
   ],
   "source": [
    "%%time\n",
    "\n",
    "model = AlternatingLeastSquares(factors=100, \n",
    "                                regularization=0.001,\n",
    "                                iterations=15, \n",
    "                                calculate_training_loss=True, \n",
    "                                num_threads=4)\n",
    "\n",
    "model.fit(csr_matrix(user_item_matrix).T.tocsr(),  # На вход item-user matrix\n",
    "          show_progress=True)\n",
    "\n",
    "result['als_tfidf'] = result['user_id'].apply(lambda x: get_recommendations(x, model=model, N=5))\n",
    "\n",
    "result.apply(lambda row: precision_at_k(row['als_tfidf'], row['actual']), axis=1).mean()"
   ]
  },
  {
   "cell_type": "markdown",
   "metadata": {
    "id": "6Xw80BaLIHyz"
   },
   "source": [
    "### 3. BM25 взвешивание"
   ]
  },
  {
   "cell_type": "code",
   "execution_count": 49,
   "metadata": {
    "id": "CyNl4rkjIHy0",
    "outputId": "067712af-e22d-4b99-a418-747ee026b72d"
   },
   "outputs": [
    {
     "name": "stderr",
     "output_type": "stream",
     "text": [
      "/home/nikita/.local/lib/python3.8/site-packages/pandas/core/indexing.py:1817: SettingWithCopyWarning: \n",
      "A value is trying to be set on a copy of a slice from a DataFrame.\n",
      "Try using .loc[row_indexer,col_indexer] = value instead\n",
      "\n",
      "See the caveats in the documentation: https://pandas.pydata.org/pandas-docs/stable/user_guide/indexing.html#returning-a-view-versus-a-copy\n",
      "  self._setitem_single_column(loc, value, pi)\n"
     ]
    },
    {
     "data": {
      "text/html": [
       "<div>\n",
       "<style scoped>\n",
       "    .dataframe tbody tr th:only-of-type {\n",
       "        vertical-align: middle;\n",
       "    }\n",
       "\n",
       "    .dataframe tbody tr th {\n",
       "        vertical-align: top;\n",
       "    }\n",
       "\n",
       "    .dataframe thead th {\n",
       "        text-align: right;\n",
       "    }\n",
       "</style>\n",
       "<table border=\"1\" class=\"dataframe\">\n",
       "  <thead>\n",
       "    <tr style=\"text-align: right;\">\n",
       "      <th>item_id</th>\n",
       "      <th>202291</th>\n",
       "      <th>397896</th>\n",
       "      <th>420647</th>\n",
       "      <th>480014</th>\n",
       "      <th>545926</th>\n",
       "      <th>707683</th>\n",
       "      <th>731106</th>\n",
       "      <th>818980</th>\n",
       "      <th>819063</th>\n",
       "      <th>819227</th>\n",
       "      <th>...</th>\n",
       "      <th>15778533</th>\n",
       "      <th>15831255</th>\n",
       "      <th>15926712</th>\n",
       "      <th>15926775</th>\n",
       "      <th>15926844</th>\n",
       "      <th>15926886</th>\n",
       "      <th>15927403</th>\n",
       "      <th>15927661</th>\n",
       "      <th>15927850</th>\n",
       "      <th>16809471</th>\n",
       "    </tr>\n",
       "    <tr>\n",
       "      <th>user_id</th>\n",
       "      <th></th>\n",
       "      <th></th>\n",
       "      <th></th>\n",
       "      <th></th>\n",
       "      <th></th>\n",
       "      <th></th>\n",
       "      <th></th>\n",
       "      <th></th>\n",
       "      <th></th>\n",
       "      <th></th>\n",
       "      <th></th>\n",
       "      <th></th>\n",
       "      <th></th>\n",
       "      <th></th>\n",
       "      <th></th>\n",
       "      <th></th>\n",
       "      <th></th>\n",
       "      <th></th>\n",
       "      <th></th>\n",
       "      <th></th>\n",
       "      <th></th>\n",
       "    </tr>\n",
       "  </thead>\n",
       "  <tbody>\n",
       "    <tr>\n",
       "      <th>1</th>\n",
       "      <td>0.0</td>\n",
       "      <td>0.0</td>\n",
       "      <td>0.0</td>\n",
       "      <td>0.0</td>\n",
       "      <td>0.0</td>\n",
       "      <td>0.0</td>\n",
       "      <td>0.0</td>\n",
       "      <td>0.0</td>\n",
       "      <td>0.0</td>\n",
       "      <td>0.0</td>\n",
       "      <td>...</td>\n",
       "      <td>0.0</td>\n",
       "      <td>0.0</td>\n",
       "      <td>0.0</td>\n",
       "      <td>0.0</td>\n",
       "      <td>1.0</td>\n",
       "      <td>0.0</td>\n",
       "      <td>0.0</td>\n",
       "      <td>0.0</td>\n",
       "      <td>0.0</td>\n",
       "      <td>0.0</td>\n",
       "    </tr>\n",
       "    <tr>\n",
       "      <th>2</th>\n",
       "      <td>0.0</td>\n",
       "      <td>0.0</td>\n",
       "      <td>0.0</td>\n",
       "      <td>0.0</td>\n",
       "      <td>0.0</td>\n",
       "      <td>0.0</td>\n",
       "      <td>0.0</td>\n",
       "      <td>0.0</td>\n",
       "      <td>0.0</td>\n",
       "      <td>0.0</td>\n",
       "      <td>...</td>\n",
       "      <td>0.0</td>\n",
       "      <td>0.0</td>\n",
       "      <td>0.0</td>\n",
       "      <td>0.0</td>\n",
       "      <td>0.0</td>\n",
       "      <td>0.0</td>\n",
       "      <td>0.0</td>\n",
       "      <td>0.0</td>\n",
       "      <td>0.0</td>\n",
       "      <td>0.0</td>\n",
       "    </tr>\n",
       "    <tr>\n",
       "      <th>3</th>\n",
       "      <td>0.0</td>\n",
       "      <td>0.0</td>\n",
       "      <td>0.0</td>\n",
       "      <td>0.0</td>\n",
       "      <td>0.0</td>\n",
       "      <td>0.0</td>\n",
       "      <td>0.0</td>\n",
       "      <td>0.0</td>\n",
       "      <td>0.0</td>\n",
       "      <td>0.0</td>\n",
       "      <td>...</td>\n",
       "      <td>0.0</td>\n",
       "      <td>0.0</td>\n",
       "      <td>0.0</td>\n",
       "      <td>0.0</td>\n",
       "      <td>0.0</td>\n",
       "      <td>0.0</td>\n",
       "      <td>0.0</td>\n",
       "      <td>0.0</td>\n",
       "      <td>0.0</td>\n",
       "      <td>0.0</td>\n",
       "    </tr>\n",
       "  </tbody>\n",
       "</table>\n",
       "<p>3 rows × 5001 columns</p>\n",
       "</div>"
      ],
      "text/plain": [
       "item_id  202291    397896    420647    480014    545926    707683    731106    \\\n",
       "user_id                                                                         \n",
       "1             0.0       0.0       0.0       0.0       0.0       0.0       0.0   \n",
       "2             0.0       0.0       0.0       0.0       0.0       0.0       0.0   \n",
       "3             0.0       0.0       0.0       0.0       0.0       0.0       0.0   \n",
       "\n",
       "item_id  818980    819063    819227    ...  15778533  15831255  15926712  \\\n",
       "user_id                                ...                                 \n",
       "1             0.0       0.0       0.0  ...       0.0       0.0       0.0   \n",
       "2             0.0       0.0       0.0  ...       0.0       0.0       0.0   \n",
       "3             0.0       0.0       0.0  ...       0.0       0.0       0.0   \n",
       "\n",
       "item_id  15926775  15926844  15926886  15927403  15927661  15927850  16809471  \n",
       "user_id                                                                        \n",
       "1             0.0       1.0       0.0       0.0       0.0       0.0       0.0  \n",
       "2             0.0       0.0       0.0       0.0       0.0       0.0       0.0  \n",
       "3             0.0       0.0       0.0       0.0       0.0       0.0       0.0  \n",
       "\n",
       "[3 rows x 5001 columns]"
      ]
     },
     "execution_count": 49,
     "metadata": {},
     "output_type": "execute_result"
    }
   ],
   "source": [
    "# Заведем фиктивный item_id (если юзер покупал товары из топ-5000, то он \"купил\" такой товар)\n",
    "data_train.loc[~data_train['item_id'].isin(top_5000), 'item_id'] = 999999\n",
    "\n",
    "user_item_matrix = pd.pivot_table(data_train, \n",
    "                                  index='user_id', columns='item_id', \n",
    "                                  values='quantity', # Можно пробовать другие варианты\n",
    "                                  aggfunc='count', \n",
    "                                  fill_value=0\n",
    "                                 )\n",
    "\n",
    "user_item_matrix = user_item_matrix.astype(float) # необходимый тип матрицы для implicit\n",
    "\n",
    "# переведем в формат saprse matrix\n",
    "sparse_user_item = csr_matrix(user_item_matrix).tocsr()\n",
    "\n",
    "user_item_matrix.head(3)"
   ]
  },
  {
   "cell_type": "code",
   "execution_count": 50,
   "metadata": {
    "id": "0yalYjMvIHy0"
   },
   "outputs": [],
   "source": [
    "user_item_matrix = bm25_weight(user_item_matrix.T).T  # Применяется к item-user матрице ! "
   ]
  },
  {
   "cell_type": "code",
   "execution_count": 51,
   "metadata": {
    "colab": {
     "referenced_widgets": [
      "4ed4a23e566645f49a4257ead85d177a"
     ]
    },
    "id": "aixME0BeIHy0",
    "outputId": "8777a5af-c636-4e2b-e315-eb413f7ba346"
   },
   "outputs": [
    {
     "data": {
      "application/vnd.jupyter.widget-view+json": {
       "model_id": "c01e283162ce4327bfd61b51cfb78076",
       "version_major": 2,
       "version_minor": 0
      },
      "text/plain": [
       "  0%|          | 0/15 [00:00<?, ?it/s]"
      ]
     },
     "metadata": {},
     "output_type": "display_data"
    },
    {
     "name": "stdout",
     "output_type": "stream",
     "text": [
      "CPU times: user 3min 4s, sys: 2min 25s, total: 5min 29s\n",
      "Wall time: 1min 26s\n"
     ]
    }
   ],
   "source": [
    "%%time\n",
    "\n",
    "model = AlternatingLeastSquares(factors=100, \n",
    "                                regularization=0.001,\n",
    "                                iterations=15, \n",
    "                                calculate_training_loss=True, \n",
    "                                num_threads=4) # K - кол-во билжайших соседей\n",
    "\n",
    "model.fit(csr_matrix(user_item_matrix).T.tocsr(),  # На вход item-user matrix\n",
    "          show_progress=True)\n",
    "\n",
    "result['als_bm25'] = result['user_id'].apply(lambda x: get_recommendations(x, model=model, N=5))"
   ]
  },
  {
   "cell_type": "code",
   "execution_count": 52,
   "metadata": {},
   "outputs": [
    {
     "data": {
      "text/plain": [
       "0.19108716944172383"
      ]
     },
     "execution_count": 52,
     "metadata": {},
     "output_type": "execute_result"
    }
   ],
   "source": [
    "result.apply(lambda row: precision_at_k(row['als_bm25'], row['actual']), axis=1).mean()"
   ]
  },
  {
   "cell_type": "code",
   "execution_count": 53,
   "metadata": {},
   "outputs": [
    {
     "data": {
      "text/html": [
       "<div>\n",
       "<style scoped>\n",
       "    .dataframe tbody tr th:only-of-type {\n",
       "        vertical-align: middle;\n",
       "    }\n",
       "\n",
       "    .dataframe tbody tr th {\n",
       "        vertical-align: top;\n",
       "    }\n",
       "\n",
       "    .dataframe thead th {\n",
       "        text-align: right;\n",
       "    }\n",
       "</style>\n",
       "<table border=\"1\" class=\"dataframe\">\n",
       "  <thead>\n",
       "    <tr style=\"text-align: right;\">\n",
       "      <th></th>\n",
       "      <th>user_id</th>\n",
       "      <th>actual</th>\n",
       "      <th>als</th>\n",
       "      <th>als_tfidf</th>\n",
       "      <th>als_bm25</th>\n",
       "    </tr>\n",
       "  </thead>\n",
       "  <tbody>\n",
       "    <tr>\n",
       "      <th>0</th>\n",
       "      <td>1</td>\n",
       "      <td>[821867, 834484, 856942, 865456, 889248, 90795...</td>\n",
       "      <td>[1033142, 995242, 979707, 1105488, 1051211]</td>\n",
       "      <td>[5569374, 1033142, 1105488, 999999, 1025641]</td>\n",
       "      <td>[999999, 1082185, 995242, 934369, 1033142]</td>\n",
       "    </tr>\n",
       "    <tr>\n",
       "      <th>1</th>\n",
       "      <td>3</td>\n",
       "      <td>[835476, 851057, 872021, 878302, 879948, 90963...</td>\n",
       "      <td>[910032, 1133018, 1106523, 938700, 965766]</td>\n",
       "      <td>[951590, 999999, 1133018, 1106523, 910032]</td>\n",
       "      <td>[999999, 951590, 1053690, 1133018, 1092026]</td>\n",
       "    </tr>\n",
       "    <tr>\n",
       "      <th>2</th>\n",
       "      <td>6</td>\n",
       "      <td>[920308, 926804, 946489, 1006718, 1017061, 107...</td>\n",
       "      <td>[1007195, 866211, 1023720, 866227, 878996]</td>\n",
       "      <td>[1051516, 1007195, 1023720, 1024306, 878996]</td>\n",
       "      <td>[1082185, 1023720, 1024306, 878996, 999999]</td>\n",
       "    </tr>\n",
       "    <tr>\n",
       "      <th>3</th>\n",
       "      <td>7</td>\n",
       "      <td>[840386, 889774, 898068, 909714, 929067, 95347...</td>\n",
       "      <td>[1058997, 938700, 1126899, 999999, 1082185]</td>\n",
       "      <td>[999999, 1082185, 826249, 1106523, 1029743]</td>\n",
       "      <td>[999999, 1082185, 6944571, 1126899, 1058997]</td>\n",
       "    </tr>\n",
       "    <tr>\n",
       "      <th>4</th>\n",
       "      <td>8</td>\n",
       "      <td>[835098, 872137, 910439, 924610, 992977, 10412...</td>\n",
       "      <td>[844179, 1068719, 913785, 1004906, 1044078]</td>\n",
       "      <td>[1053690, 965766, 844179, 938700, 1004906]</td>\n",
       "      <td>[999999, 883404, 1004906, 840361, 965766]</td>\n",
       "    </tr>\n",
       "    <tr>\n",
       "      <th>...</th>\n",
       "      <td>...</td>\n",
       "      <td>...</td>\n",
       "      <td>...</td>\n",
       "      <td>...</td>\n",
       "      <td>...</td>\n",
       "    </tr>\n",
       "    <tr>\n",
       "      <th>2037</th>\n",
       "      <td>2496</td>\n",
       "      <td>[6534178]</td>\n",
       "      <td>[914190, 840361, 1013321, 1133018, 1006184]</td>\n",
       "      <td>[914190, 1133018, 847982, 5568729, 840361]</td>\n",
       "      <td>[914190, 999999, 840361, 1133018, 831628]</td>\n",
       "    </tr>\n",
       "    <tr>\n",
       "      <th>2038</th>\n",
       "      <td>2497</td>\n",
       "      <td>[1016709, 9835695, 1132298, 16809501, 845294, ...</td>\n",
       "      <td>[5569230, 826249, 5569845, 1098066, 951590]</td>\n",
       "      <td>[5569230, 5569471, 951590, 5585510, 854852]</td>\n",
       "      <td>[5569230, 957951, 999999, 995785, 981760]</td>\n",
       "    </tr>\n",
       "    <tr>\n",
       "      <th>2039</th>\n",
       "      <td>2498</td>\n",
       "      <td>[15716530, 834484, 901776, 914190, 958382, 972...</td>\n",
       "      <td>[999999, 862349, 1070820, 1053690, 1082185]</td>\n",
       "      <td>[999999, 1082185, 1070820, 862349, 995242]</td>\n",
       "      <td>[999999, 995242, 862349, 840361, 1070820]</td>\n",
       "    </tr>\n",
       "    <tr>\n",
       "      <th>2040</th>\n",
       "      <td>2499</td>\n",
       "      <td>[867188, 877580, 902396, 914190, 951590, 95813...</td>\n",
       "      <td>[938700, 883404, 1004906, 862349, 5568378]</td>\n",
       "      <td>[929668, 1004906, 6534178, 1098066, 883404]</td>\n",
       "      <td>[999999, 826249, 1098066, 883404, 5569845]</td>\n",
       "    </tr>\n",
       "    <tr>\n",
       "      <th>2041</th>\n",
       "      <td>2500</td>\n",
       "      <td>[852182, 856345, 923746, 948670, 1018007, 1044...</td>\n",
       "      <td>[1071939, 1029743, 859075, 1058997, 833025]</td>\n",
       "      <td>[1058997, 999999, 1029743, 1082185, 1126899]</td>\n",
       "      <td>[999999, 1082185, 1058997, 1126899, 6534178]</td>\n",
       "    </tr>\n",
       "  </tbody>\n",
       "</table>\n",
       "<p>2042 rows × 5 columns</p>\n",
       "</div>"
      ],
      "text/plain": [
       "      user_id                                             actual  \\\n",
       "0           1  [821867, 834484, 856942, 865456, 889248, 90795...   \n",
       "1           3  [835476, 851057, 872021, 878302, 879948, 90963...   \n",
       "2           6  [920308, 926804, 946489, 1006718, 1017061, 107...   \n",
       "3           7  [840386, 889774, 898068, 909714, 929067, 95347...   \n",
       "4           8  [835098, 872137, 910439, 924610, 992977, 10412...   \n",
       "...       ...                                                ...   \n",
       "2037     2496                                          [6534178]   \n",
       "2038     2497  [1016709, 9835695, 1132298, 16809501, 845294, ...   \n",
       "2039     2498  [15716530, 834484, 901776, 914190, 958382, 972...   \n",
       "2040     2499  [867188, 877580, 902396, 914190, 951590, 95813...   \n",
       "2041     2500  [852182, 856345, 923746, 948670, 1018007, 1044...   \n",
       "\n",
       "                                              als  \\\n",
       "0     [1033142, 995242, 979707, 1105488, 1051211]   \n",
       "1      [910032, 1133018, 1106523, 938700, 965766]   \n",
       "2      [1007195, 866211, 1023720, 866227, 878996]   \n",
       "3     [1058997, 938700, 1126899, 999999, 1082185]   \n",
       "4     [844179, 1068719, 913785, 1004906, 1044078]   \n",
       "...                                           ...   \n",
       "2037  [914190, 840361, 1013321, 1133018, 1006184]   \n",
       "2038  [5569230, 826249, 5569845, 1098066, 951590]   \n",
       "2039  [999999, 862349, 1070820, 1053690, 1082185]   \n",
       "2040   [938700, 883404, 1004906, 862349, 5568378]   \n",
       "2041  [1071939, 1029743, 859075, 1058997, 833025]   \n",
       "\n",
       "                                         als_tfidf  \\\n",
       "0     [5569374, 1033142, 1105488, 999999, 1025641]   \n",
       "1       [951590, 999999, 1133018, 1106523, 910032]   \n",
       "2     [1051516, 1007195, 1023720, 1024306, 878996]   \n",
       "3      [999999, 1082185, 826249, 1106523, 1029743]   \n",
       "4       [1053690, 965766, 844179, 938700, 1004906]   \n",
       "...                                            ...   \n",
       "2037    [914190, 1133018, 847982, 5568729, 840361]   \n",
       "2038   [5569230, 5569471, 951590, 5585510, 854852]   \n",
       "2039    [999999, 1082185, 1070820, 862349, 995242]   \n",
       "2040   [929668, 1004906, 6534178, 1098066, 883404]   \n",
       "2041  [1058997, 999999, 1029743, 1082185, 1126899]   \n",
       "\n",
       "                                          als_bm25  \n",
       "0       [999999, 1082185, 995242, 934369, 1033142]  \n",
       "1      [999999, 951590, 1053690, 1133018, 1092026]  \n",
       "2      [1082185, 1023720, 1024306, 878996, 999999]  \n",
       "3     [999999, 1082185, 6944571, 1126899, 1058997]  \n",
       "4        [999999, 883404, 1004906, 840361, 965766]  \n",
       "...                                            ...  \n",
       "2037     [914190, 999999, 840361, 1133018, 831628]  \n",
       "2038     [5569230, 957951, 999999, 995785, 981760]  \n",
       "2039     [999999, 995242, 862349, 840361, 1070820]  \n",
       "2040    [999999, 826249, 1098066, 883404, 5569845]  \n",
       "2041  [999999, 1082185, 1058997, 1126899, 6534178]  \n",
       "\n",
       "[2042 rows x 5 columns]"
      ]
     },
     "execution_count": 53,
     "metadata": {},
     "output_type": "execute_result"
    }
   ],
   "source": [
    "result"
   ]
  },
  {
   "cell_type": "code",
   "execution_count": 54,
   "metadata": {
    "id": "eq8DV_vtIHy1"
   },
   "outputs": [],
   "source": [
    "result.to_csv('predictions_mf.csv', index=False)  # mf - matrix factorization"
   ]
  },
  {
   "cell_type": "markdown",
   "metadata": {
    "id": "749_a1hBIHy1"
   },
   "source": [
    "## 4. Важно искать оптимальные параметры"
   ]
  },
  {
   "cell_type": "markdown",
   "metadata": {
    "id": "mBdRhScQIHy1"
   },
   "source": [
    "- regularization, iterations\n",
    "- factors\n",
    "- Вес (элемент в матрице user-item)"
   ]
  },
  {
   "cell_type": "markdown",
   "metadata": {
    "id": "aTJVsOhrIHy1"
   },
   "source": [
    "-----"
   ]
  },
  {
   "cell_type": "markdown",
   "metadata": {
    "id": "IgTrX7hAIHy2"
   },
   "source": [
    "# Production"
   ]
  },
  {
   "cell_type": "markdown",
   "metadata": {
    "id": "_BlVIuo8IHy2"
   },
   "source": [
    "Начиная с этого вебинара, мы будем строить *базовое решение* для системы рекомендаций топ-N товаров. В финальном проекте вам нужно будет его сущесвтенно улучшить.  \n",
    "  \n",
    "**Ситуация**: Вы работает data scientist в крупном продуктовом российском ритейлере. Ваш конкурент сделал рекомендательную систему, и его продажи выросли. Ваш менеджмент тоже хочет увеличить продажи   \n",
    "**Задача со слов менеджера**: Сделайте рекомендательную систему топ-10 товаров для рассылки по e-mail"
   ]
  },
  {
   "cell_type": "markdown",
   "metadata": {
    "id": "0O0XT3Y5IHy2"
   },
   "source": [
    "**Ожидание:**\n",
    "- Отправляем e-mail с топ-10 товарами, отсортированными по вероятности\n",
    "\n",
    "**Реальность:**\n",
    "- Чего хочет менеджер от рекомендательной системы? (рост показателя X на Y% за Z недель)\n",
    "- По-хорошему надо бы предварительно посчитать потенциальный эффект от рекоммендательной системы (Оценки эффектов у менеджера и у вас могут сильно не совпадать: как правило, вы знаете про данные больше)\n",
    "- А у нас вообще есть e-mail-ы пользователей? Для скольки %? Не устарели ли они?\n",
    "- Будем ли использовать СМС и push-уведомления в приложении? Может, будем печатать рекомендации на чеке после оплаты на кассе?\n",
    "- Как будет выглядеть e-mail? (решаем задачу топ-10 рекомендаций или ранжирования? И топ-10 ли?)\n",
    "- Какие товары должны быть в e-mail? Есть ли какие-то ограничения (только акции и т п)?\n",
    "- Сколько денег мы готовы потратить на привлечение 1 юзера? CAC - Customer Aquisition Cost. Обычно CAC = расходы на коммуникацию + расходы на скидки\n",
    "- Cколько мы хотим зарабатывать с одного привлеченного юзера?\n",
    "---\n",
    "- А точно нужно сортировать по вероятности?\n",
    "- Какую метрику использовать?\n",
    "- Сколько раз в неделю отпрпавляем рассылку?\n",
    "- В какое время отправляем рассылку?\n",
    "- Будем отправлять одному юзеру много раз наши рекоммендации. Как добиться того, чтобы они хоть немного отличались?\n",
    "- Нужно ли, чтобы в одной рассылке были *разные* товары? Как определить, что товары *разные*? Как добиться того, чтобы они были разными?\n",
    "- И многое другое:)"
   ]
  },
  {
   "cell_type": "markdown",
   "metadata": {
    "id": "QQN2KT7JIHy2"
   },
   "source": [
    "**В итоге договорились, что:**\n",
    "- Хотим повысить выручку минимум на 6% за 4 месяца. Будем повышать за счет роста Retention минимум на  3% и среднего чека минимум на 3%\n",
    "- Топ-5 товаров, а не топ-10 (В e-mail 10 выглядят не красиво, в push и на чек больше 5 не влезает)\n",
    "- Рассылаем в e-mail (5% клиентов) и push-уведомлении (20% клиентов), печатаем на чеке (все оффлайн клиенты)\n",
    "- **3 товара с акцией** (Как это учесть? А если на товар была акция 10%, а потом 50%, что будет стоять в user-item матрице?)\n",
    "- **1 новый товар** (юзер никогда не покупал. Просто фильтруем аутпут ALS? А если у таких товаров очень маленькая вероятность покупки? Может, использовать другую логику/модель?) \n",
    "- **1 товар для роста среднего чека** (товары минимум дороже чем обычно покупает юзер. Как это измерить? На сколько дороже?)"
   ]
  },
  {
   "cell_type": "markdown",
   "metadata": {
    "id": "TJVGydM9IHy2"
   },
   "source": [
    "Вопросов стало еще больше. Поэтому сначала делаем **MVP** (Minimum viable product) на e-mail. Показываем его менеджеру, измеряем метрики на юзерах. По фидбеку и метрикам делаем улучшения MVP и раскатываем его на push-уведомления и чеки\n",
    "\n",
    "*Data Science проект* - итеративный процесс!"
   ]
  },
  {
   "cell_type": "code",
   "execution_count": 55,
   "metadata": {
    "id": "rA7g4mL8IHy3",
    "outputId": "ecf022e0-c283-4cb8-ccec-611f9cdbedad"
   },
   "outputs": [
    {
     "data": {
      "text/html": [
       "<div>\n",
       "<style scoped>\n",
       "    .dataframe tbody tr th:only-of-type {\n",
       "        vertical-align: middle;\n",
       "    }\n",
       "\n",
       "    .dataframe tbody tr th {\n",
       "        vertical-align: top;\n",
       "    }\n",
       "\n",
       "    .dataframe thead th {\n",
       "        text-align: right;\n",
       "    }\n",
       "</style>\n",
       "<table border=\"1\" class=\"dataframe\">\n",
       "  <thead>\n",
       "    <tr style=\"text-align: right;\">\n",
       "      <th></th>\n",
       "      <th>user_id</th>\n",
       "      <th>basket_id</th>\n",
       "      <th>day</th>\n",
       "      <th>item_id</th>\n",
       "      <th>quantity</th>\n",
       "      <th>sales_value</th>\n",
       "      <th>store_id</th>\n",
       "      <th>retail_disc</th>\n",
       "      <th>trans_time</th>\n",
       "      <th>week_no</th>\n",
       "      <th>coupon_disc</th>\n",
       "      <th>coupon_match_disc</th>\n",
       "    </tr>\n",
       "  </thead>\n",
       "  <tbody>\n",
       "    <tr>\n",
       "      <th>0</th>\n",
       "      <td>2375</td>\n",
       "      <td>26984851472</td>\n",
       "      <td>1</td>\n",
       "      <td>1004906</td>\n",
       "      <td>1</td>\n",
       "      <td>1.39</td>\n",
       "      <td>364</td>\n",
       "      <td>-0.6</td>\n",
       "      <td>1631</td>\n",
       "      <td>1</td>\n",
       "      <td>0.0</td>\n",
       "      <td>0.0</td>\n",
       "    </tr>\n",
       "    <tr>\n",
       "      <th>1</th>\n",
       "      <td>2375</td>\n",
       "      <td>26984851472</td>\n",
       "      <td>1</td>\n",
       "      <td>1033142</td>\n",
       "      <td>1</td>\n",
       "      <td>0.82</td>\n",
       "      <td>364</td>\n",
       "      <td>0.0</td>\n",
       "      <td>1631</td>\n",
       "      <td>1</td>\n",
       "      <td>0.0</td>\n",
       "      <td>0.0</td>\n",
       "    </tr>\n",
       "  </tbody>\n",
       "</table>\n",
       "</div>"
      ],
      "text/plain": [
       "   user_id    basket_id  day  item_id  quantity  sales_value  store_id  \\\n",
       "0     2375  26984851472    1  1004906         1         1.39       364   \n",
       "1     2375  26984851472    1  1033142         1         0.82       364   \n",
       "\n",
       "   retail_disc  trans_time  week_no  coupon_disc  coupon_match_disc  \n",
       "0         -0.6        1631        1          0.0                0.0  \n",
       "1          0.0        1631        1          0.0                0.0  "
      ]
     },
     "execution_count": 55,
     "metadata": {},
     "output_type": "execute_result"
    }
   ],
   "source": [
    "data_train.head(2)"
   ]
  },
  {
   "cell_type": "code",
   "execution_count": 56,
   "metadata": {
    "id": "Ng_OBqaJIHy3",
    "outputId": "9b8bd811-80b7-47f1-bf70-58c51c48fc17"
   },
   "outputs": [
    {
     "name": "stderr",
     "output_type": "stream",
     "text": [
      "/tmp/ipykernel_3148/1027606932.py:1: SettingWithCopyWarning: \n",
      "A value is trying to be set on a copy of a slice from a DataFrame.\n",
      "Try using .loc[row_indexer,col_indexer] = value instead\n",
      "\n",
      "See the caveats in the documentation: https://pandas.pydata.org/pandas-docs/stable/user_guide/indexing.html#returning-a-view-versus-a-copy\n",
      "  data_train['price'] = data_train['sales_value'] / (np.maximum(data_train['quantity'], 1))\n"
     ]
    },
    {
     "data": {
      "text/plain": [
       "499.99"
      ]
     },
     "execution_count": 56,
     "metadata": {},
     "output_type": "execute_result"
    }
   ],
   "source": [
    "data_train['price'] = data_train['sales_value'] / (np.maximum(data_train['quantity'], 1))\n",
    "data_train['price'].max()"
   ]
  },
  {
   "cell_type": "code",
   "execution_count": 57,
   "metadata": {
    "id": "fO-CqBT4IHy3",
    "outputId": "5fad70dd-f1ae-4cb2-9e1f-dab3484d4919"
   },
   "outputs": [
    {
     "data": {
      "text/plain": [
       "0.99"
      ]
     },
     "execution_count": 57,
     "metadata": {},
     "output_type": "execute_result"
    }
   ],
   "source": [
    "# < 1$\n",
    "data_train['price'].quantile(0.20)"
   ]
  },
  {
   "cell_type": "code",
   "execution_count": 58,
   "metadata": {
    "id": "3kBJJ2s3IHy4",
    "outputId": "253ef171-4dd8-42f8-c912-9deb792dd597"
   },
   "outputs": [
    {
     "data": {
      "text/plain": [
       "82.01435450003483"
      ]
     },
     "execution_count": 58,
     "metadata": {},
     "output_type": "execute_result"
    }
   ],
   "source": [
    "# > 100$\n",
    "data_train['price'].quantile(0.99995)"
   ]
  },
  {
   "cell_type": "code",
   "execution_count": 60,
   "metadata": {
    "id": "oAK7h-0CIHy4"
   },
   "outputs": [],
   "source": [
    "def prefilter_items(data):\n",
    "    # Уберем самые популярные товары (их и так купят)\n",
    "    popularity = data_train.groupby('item_id')['user_id'].nunique().reset_index() / data_train['user_id'].nunique()\n",
    "    popularity.rename(columns={'user_id': 'share_unique_users'}, inplace=True)\n",
    "    \n",
    "    top_popular = popularity[popularity['share_unique_users'] > 0.5].item_id.tolist()\n",
    "    data = data[~data['item_id'].isin(top_popular)]\n",
    "    \n",
    "    # Уберем самые НЕ популярные товары (их и так НЕ купят)\n",
    "    top_notpopular = popularity[popularity['share_unique_users'] < 0.01].item_id.tolist()\n",
    "    data = data[~data['item_id'].isin(top_notpopular)]\n",
    "    \n",
    "    # Уберем товары, которые не продавались за последние 12 месяцев\n",
    "    data_ = data_[~(data_['day'] > 365)]\n",
    "    \n",
    "    # Уберем не интересные для рекоммендаций категории (department)\n",
    "    \n",
    "    items_of_interest = item_features[item_features['department'].isin(interesting_cats)]\n",
    "    data_ = pd.merge(data_, items_of_interest, on='item_id', how='inner')\n",
    "\n",
    "    data_['price'] = data_['sales_value'] / (np.maximum(data_['quantity'], 1))\n",
    "\n",
    "       \n",
    "    # Уберем слишком дешевые товары (на них не заработаем). 1 покупка из рассылок стоит 60 руб. \n",
    "    data_ = data_[~(data_['price'] < data_['price'].quantile(0.20))]\n",
    "    \n",
    "    # Уберем слишком дорогие товары\n",
    "    data_ = data_[~(data_['price'] > data_['price'].quantile(0.99995))]\n",
    "    \n",
    "    # ...\n",
    "    return data_\n",
    "    \n",
    "def postfilter_items(user_id, recommednations):\n",
    "    pass"
   ]
  },
  {
   "cell_type": "markdown",
   "metadata": {
    "id": "OqYWeY14IHy4"
   },
   "source": [
    "Все эти функции отправим затем в *utils.py*"
   ]
  },
  {
   "cell_type": "markdown",
   "metadata": {},
   "source": [
    "# ДЗ\n",
    "\n",
    "1) Попытаться ответить на вопросы/выдвинуть гипотезы\n",
    "\n",
    "2) Доделать прошлые домашния задания\n",
    "\n",
    "3) Прочитать статьи BM25/MatrixFactorization\n",
    "\n",
    "4) Поэкспериментировать с ALS (grid-search)"
   ]
  },
  {
   "cell_type": "markdown",
   "metadata": {},
   "source": [
    "# Links\n",
    "\n",
    "BM25\n",
    "\n",
    "https://en.wikipedia.org/wiki/Okapi_BM25#:~:text=BM25%20is%20a%20bag%2Dof,slightly%20different%20components%20and%20parameters.\n",
    "\n",
    "\n",
    "Matrix factorization (ALS, SVD)\n",
    "https://datasciencemadesimpler.wordpress.com/tag/alternating-least-squares/"
   ]
  },
  {
   "cell_type": "markdown",
   "metadata": {},
   "source": [
    "## Попытаться ответить на вопросы/выдвинуть гипотезы"
   ]
  },
  {
   "cell_type": "markdown",
   "metadata": {},
   "source": [
    "*А точно нужно сортировать по вероятности?*<br>\n",
    "Сортировать по вероятности необязательно. Сэмплирование при заданном топе товаров/услуг позволит внести разнообразие в рассылку. Также можно ориентироваться на прибыль."
   ]
  },
  {
   "cell_type": "markdown",
   "metadata": {},
   "source": [
    "*Какую метрику использовать?* <br>\n",
    "Можно использовать accuracy, precision, recall и т.д. Кроме того можно использоватьм метрики, связанные с прибылью."
   ]
  },
  {
   "cell_type": "markdown",
   "metadata": {},
   "source": [
    "*Сколько раз в неделю отпрпавляем рассылку?* <br>\n",
    "Одного раза в неделю вполне достаточно (вряд ли перечень товаров/услуг обновляется чаще)"
   ]
  },
  {
   "cell_type": "markdown",
   "metadata": {},
   "source": [
    "*В какое время отправляем рассылку?* <br>\n",
    "Время не особо важно.\n",
    "А день - лучше ближе к выходным, особенно, если это не просто товары, а услуги/развлечение - человек должен иметь возможность заранее спланирвоать свое время. "
   ]
  },
  {
   "cell_type": "markdown",
   "metadata": {},
   "source": [
    "*Будем отправлять одному юзеру много раз наши рекоммендации. Как добиться того, чтобы они хоть немного отличались?* <br>\n",
    "Отличия в рекомендациях можно добиться сэмплированием."
   ]
  },
  {
   "cell_type": "markdown",
   "metadata": {},
   "source": [
    "*Нужно ли, чтобы в одной рассылке были разные товары? Как определить, что товары разные? Как добиться того, чтобы они были разными?* <br>\n",
    "Лучше всего иметь разные товары в одной рассылке. Нужно стараться не надоедать множеством мелких писем, лучше одно, но подробное.\n",
    "Разнообразие товаров обеспечит их разбивка по категориям"
   ]
  },
  {
   "cell_type": "markdown",
   "metadata": {},
   "source": [
    "## Поэкспериментировать с ALS (grid-search)"
   ]
  },
  {
   "cell_type": "code",
   "execution_count": 61,
   "metadata": {},
   "outputs": [
    {
     "name": "stdout",
     "output_type": "stream",
     "text": [
      "Iteration 1 from 27 2022-01-04 20:31:16.122539 (spent 0:01:01.946163)\n",
      "{'factors': 64, 'iterations': 10, 'regularization': 0.25, 'precision_at_k': 0.1792360430950049}\n",
      "Iteration 2 from 27 2022-01-04 20:32:15.886053 (spent 0:00:59.762493)\n",
      "{'factors': 64, 'iterations': 10, 'regularization': 0.05, 'precision_at_k': 0.18344760039177277}\n",
      "Iteration 3 from 27 2022-01-04 20:33:15.362719 (spent 0:00:59.476519)\n",
      "{'factors': 64, 'iterations': 10, 'regularization': 1, 'precision_at_k': 0.17688540646425072}\n",
      "Iteration 4 from 27 2022-01-04 20:34:17.814907 (spent 0:01:02.452055)\n",
      "{'factors': 64, 'iterations': 15, 'regularization': 0.25, 'precision_at_k': 0.18070519098922624}\n",
      "Iteration 5 from 27 2022-01-04 20:35:21.136774 (spent 0:01:03.321728)\n",
      "{'factors': 64, 'iterations': 15, 'regularization': 0.05, 'precision_at_k': 0.17992164544564154}\n",
      "Iteration 6 from 27 2022-01-04 20:36:22.887002 (spent 0:01:01.750072)\n",
      "{'factors': 64, 'iterations': 15, 'regularization': 1, 'precision_at_k': 0.17864838393731636}\n",
      "Iteration 7 from 27 2022-01-04 20:37:26.114939 (spent 0:01:03.227805)\n",
      "{'factors': 64, 'iterations': 20, 'regularization': 0.25, 'precision_at_k': 0.18148873653281097}\n",
      "Iteration 8 from 27 2022-01-04 20:38:31.208546 (spent 0:01:05.093420)\n",
      "{'factors': 64, 'iterations': 20, 'regularization': 0.05, 'precision_at_k': 0.18197845249755143}\n",
      "Iteration 9 from 27 2022-01-04 20:39:34.185914 (spent 0:01:02.977225)\n",
      "{'factors': 64, 'iterations': 20, 'regularization': 1, 'precision_at_k': 0.17747306562193926}\n",
      "Iteration 10 from 27 2022-01-04 20:40:53.735822 (spent 0:01:19.549494)\n",
      "{'factors': 96, 'iterations': 10, 'regularization': 0.25, 'precision_at_k': 0.19020568070519098}\n",
      "Iteration 11 from 27 2022-01-04 20:42:09.492125 (spent 0:01:15.756162)\n",
      "{'factors': 96, 'iterations': 10, 'regularization': 0.05, 'precision_at_k': 0.19363369245837414}\n",
      "Iteration 12 from 27 2022-01-04 20:43:27.513953 (spent 0:01:18.021680)\n",
      "{'factors': 96, 'iterations': 10, 'regularization': 1, 'precision_at_k': 0.1913809990205681}\n",
      "Iteration 13 from 27 2022-01-04 20:44:48.329721 (spent 0:01:20.815631)\n",
      "{'factors': 96, 'iterations': 15, 'regularization': 0.25, 'precision_at_k': 0.1909892262487757}\n",
      "Iteration 14 from 27 2022-01-04 20:46:10.798359 (spent 0:01:22.468483)\n",
      "{'factors': 96, 'iterations': 15, 'regularization': 0.05, 'precision_at_k': 0.1932419196865818}\n",
      "Iteration 15 from 27 2022-01-04 20:47:31.234776 (spent 0:01:20.436260)\n",
      "{'factors': 96, 'iterations': 15, 'regularization': 1, 'precision_at_k': 0.19040156709108721}\n",
      "Iteration 16 from 27 2022-01-04 20:48:55.300696 (spent 0:01:24.065783)\n",
      "{'factors': 96, 'iterations': 20, 'regularization': 0.25, 'precision_at_k': 0.1922624877571009}\n",
      "Iteration 17 from 27 2022-01-04 20:50:19.600163 (spent 0:01:24.299316)\n",
      "{'factors': 96, 'iterations': 20, 'regularization': 0.05, 'precision_at_k': 0.19108716944172383}\n",
      "Iteration 18 from 27 2022-01-04 20:51:43.863305 (spent 0:01:24.263002)\n",
      "{'factors': 96, 'iterations': 20, 'regularization': 1, 'precision_at_k': 0.18893241919686582}\n",
      "Iteration 19 from 27 2022-01-04 20:53:17.708668 (spent 0:01:33.845225)\n",
      "{'factors': 128, 'iterations': 10, 'regularization': 0.25, 'precision_at_k': 0.1992164544564153}\n",
      "Iteration 20 from 27 2022-01-04 20:54:51.730799 (spent 0:01:34.021993)\n",
      "{'factors': 128, 'iterations': 10, 'regularization': 0.05, 'precision_at_k': 0.2001958863858962}\n",
      "Iteration 21 from 27 2022-01-04 20:56:25.608643 (spent 0:01:33.876852)\n",
      "{'factors': 128, 'iterations': 10, 'regularization': 1, 'precision_at_k': 0.19843290891283058}\n",
      "Iteration 22 from 27 2022-01-04 20:58:03.276842 (spent 0:01:37.668063)\n",
      "{'factors': 128, 'iterations': 15, 'regularization': 0.25, 'precision_at_k': 0.19578844270323212}\n",
      "Iteration 23 from 27 2022-01-04 20:59:42.625377 (spent 0:01:39.348377)\n",
      "{'factors': 128, 'iterations': 15, 'regularization': 0.05, 'precision_at_k': 0.1932419196865818}\n",
      "Iteration 24 from 27 2022-01-04 21:01:19.604251 (spent 0:01:36.978730)\n",
      "{'factors': 128, 'iterations': 15, 'regularization': 1, 'precision_at_k': 0.19657198824681688}\n",
      "Iteration 25 from 27 2022-01-04 21:03:00.863575 (spent 0:01:41.259193)\n",
      "{'factors': 128, 'iterations': 20, 'regularization': 0.25, 'precision_at_k': 0.1971596474045054}\n",
      "Iteration 26 from 27 2022-01-04 21:04:44.572775 (spent 0:01:43.709042)\n",
      "{'factors': 128, 'iterations': 20, 'regularization': 0.05, 'precision_at_k': 0.19647404505386878}\n",
      "Iteration 27 from 27 2022-01-04 21:06:28.280043 (spent 0:01:43.707125)\n",
      "{'factors': 128, 'iterations': 20, 'regularization': 1, 'precision_at_k': 0.19578844270323212}\n"
     ]
    }
   ],
   "source": [
    "import datetime\n",
    "from sklearn.model_selection import ParameterGrid\n",
    "\n",
    "\n",
    "def grid_search(param_grid: dict, data: pd.DataFrame) -> dict:\n",
    "    data_temp = data.copy()\n",
    "    time: datetime.datetime = datetime.datetime.now()\n",
    "    results: dict = dict()\n",
    "    grid: list = list(ParameterGrid(param_grid))\n",
    "    cnt: int = 0\n",
    "    for params in grid:\n",
    "        cnt += 1\n",
    "        results[cnt] = params\n",
    "        \n",
    "        model = AlternatingLeastSquares(\n",
    "            calculate_training_loss=True, \n",
    "            num_threads=4,\n",
    "            **params\n",
    "        )\n",
    "        model.fit(\n",
    "            csr_matrix(user_item_matrix).T.tocsr(),\n",
    "            show_progress=False,\n",
    "        )\n",
    "\n",
    "        data_temp['als_bm25'] = data_temp['user_id'].apply(lambda x: get_recommendations(x, model=model, N=5))\n",
    "        precision = data_temp.apply(lambda row: precision_at_k(row['als_bm25'], row['actual']), axis=1).mean()\n",
    "        results[cnt].update({'precision_at_k': precision})\n",
    "\n",
    "        print(f'Iteration {cnt} from {len(grid)} {datetime.datetime.now()} (spent {datetime.datetime.now() - time})')\n",
    "        print(results[cnt])\n",
    "        time = datetime.datetime.now()\n",
    "\n",
    "    return results\n",
    "\n",
    "param_grid = {\n",
    "    'factors': [64, 96, 128], \n",
    "    'regularization': [0.25, 0.05, 1],\n",
    "    'iterations': [10, 15, 20], \n",
    "}\n",
    "results = grid_search(param_grid, result)"
   ]
  },
  {
   "cell_type": "code",
   "execution_count": 62,
   "metadata": {},
   "outputs": [
    {
     "data": {
      "text/html": [
       "<div>\n",
       "<style scoped>\n",
       "    .dataframe tbody tr th:only-of-type {\n",
       "        vertical-align: middle;\n",
       "    }\n",
       "\n",
       "    .dataframe tbody tr th {\n",
       "        vertical-align: top;\n",
       "    }\n",
       "\n",
       "    .dataframe thead th {\n",
       "        text-align: right;\n",
       "    }\n",
       "</style>\n",
       "<table border=\"1\" class=\"dataframe\">\n",
       "  <thead>\n",
       "    <tr style=\"text-align: right;\">\n",
       "      <th></th>\n",
       "      <th>factors</th>\n",
       "      <th>iterations</th>\n",
       "      <th>regularization</th>\n",
       "      <th>precision_at_k</th>\n",
       "    </tr>\n",
       "  </thead>\n",
       "  <tbody>\n",
       "    <tr>\n",
       "      <th>20</th>\n",
       "      <td>128</td>\n",
       "      <td>10</td>\n",
       "      <td>0.05</td>\n",
       "      <td>0.200196</td>\n",
       "    </tr>\n",
       "    <tr>\n",
       "      <th>19</th>\n",
       "      <td>128</td>\n",
       "      <td>10</td>\n",
       "      <td>0.25</td>\n",
       "      <td>0.199216</td>\n",
       "    </tr>\n",
       "    <tr>\n",
       "      <th>21</th>\n",
       "      <td>128</td>\n",
       "      <td>10</td>\n",
       "      <td>1.00</td>\n",
       "      <td>0.198433</td>\n",
       "    </tr>\n",
       "    <tr>\n",
       "      <th>25</th>\n",
       "      <td>128</td>\n",
       "      <td>20</td>\n",
       "      <td>0.25</td>\n",
       "      <td>0.197160</td>\n",
       "    </tr>\n",
       "    <tr>\n",
       "      <th>24</th>\n",
       "      <td>128</td>\n",
       "      <td>15</td>\n",
       "      <td>1.00</td>\n",
       "      <td>0.196572</td>\n",
       "    </tr>\n",
       "    <tr>\n",
       "      <th>26</th>\n",
       "      <td>128</td>\n",
       "      <td>20</td>\n",
       "      <td>0.05</td>\n",
       "      <td>0.196474</td>\n",
       "    </tr>\n",
       "    <tr>\n",
       "      <th>27</th>\n",
       "      <td>128</td>\n",
       "      <td>20</td>\n",
       "      <td>1.00</td>\n",
       "      <td>0.195788</td>\n",
       "    </tr>\n",
       "    <tr>\n",
       "      <th>22</th>\n",
       "      <td>128</td>\n",
       "      <td>15</td>\n",
       "      <td>0.25</td>\n",
       "      <td>0.195788</td>\n",
       "    </tr>\n",
       "    <tr>\n",
       "      <th>11</th>\n",
       "      <td>96</td>\n",
       "      <td>10</td>\n",
       "      <td>0.05</td>\n",
       "      <td>0.193634</td>\n",
       "    </tr>\n",
       "    <tr>\n",
       "      <th>23</th>\n",
       "      <td>128</td>\n",
       "      <td>15</td>\n",
       "      <td>0.05</td>\n",
       "      <td>0.193242</td>\n",
       "    </tr>\n",
       "    <tr>\n",
       "      <th>14</th>\n",
       "      <td>96</td>\n",
       "      <td>15</td>\n",
       "      <td>0.05</td>\n",
       "      <td>0.193242</td>\n",
       "    </tr>\n",
       "    <tr>\n",
       "      <th>16</th>\n",
       "      <td>96</td>\n",
       "      <td>20</td>\n",
       "      <td>0.25</td>\n",
       "      <td>0.192262</td>\n",
       "    </tr>\n",
       "    <tr>\n",
       "      <th>12</th>\n",
       "      <td>96</td>\n",
       "      <td>10</td>\n",
       "      <td>1.00</td>\n",
       "      <td>0.191381</td>\n",
       "    </tr>\n",
       "    <tr>\n",
       "      <th>17</th>\n",
       "      <td>96</td>\n",
       "      <td>20</td>\n",
       "      <td>0.05</td>\n",
       "      <td>0.191087</td>\n",
       "    </tr>\n",
       "    <tr>\n",
       "      <th>13</th>\n",
       "      <td>96</td>\n",
       "      <td>15</td>\n",
       "      <td>0.25</td>\n",
       "      <td>0.190989</td>\n",
       "    </tr>\n",
       "    <tr>\n",
       "      <th>15</th>\n",
       "      <td>96</td>\n",
       "      <td>15</td>\n",
       "      <td>1.00</td>\n",
       "      <td>0.190402</td>\n",
       "    </tr>\n",
       "    <tr>\n",
       "      <th>10</th>\n",
       "      <td>96</td>\n",
       "      <td>10</td>\n",
       "      <td>0.25</td>\n",
       "      <td>0.190206</td>\n",
       "    </tr>\n",
       "    <tr>\n",
       "      <th>18</th>\n",
       "      <td>96</td>\n",
       "      <td>20</td>\n",
       "      <td>1.00</td>\n",
       "      <td>0.188932</td>\n",
       "    </tr>\n",
       "    <tr>\n",
       "      <th>2</th>\n",
       "      <td>64</td>\n",
       "      <td>10</td>\n",
       "      <td>0.05</td>\n",
       "      <td>0.183448</td>\n",
       "    </tr>\n",
       "    <tr>\n",
       "      <th>8</th>\n",
       "      <td>64</td>\n",
       "      <td>20</td>\n",
       "      <td>0.05</td>\n",
       "      <td>0.181978</td>\n",
       "    </tr>\n",
       "    <tr>\n",
       "      <th>7</th>\n",
       "      <td>64</td>\n",
       "      <td>20</td>\n",
       "      <td>0.25</td>\n",
       "      <td>0.181489</td>\n",
       "    </tr>\n",
       "    <tr>\n",
       "      <th>4</th>\n",
       "      <td>64</td>\n",
       "      <td>15</td>\n",
       "      <td>0.25</td>\n",
       "      <td>0.180705</td>\n",
       "    </tr>\n",
       "    <tr>\n",
       "      <th>5</th>\n",
       "      <td>64</td>\n",
       "      <td>15</td>\n",
       "      <td>0.05</td>\n",
       "      <td>0.179922</td>\n",
       "    </tr>\n",
       "    <tr>\n",
       "      <th>1</th>\n",
       "      <td>64</td>\n",
       "      <td>10</td>\n",
       "      <td>0.25</td>\n",
       "      <td>0.179236</td>\n",
       "    </tr>\n",
       "    <tr>\n",
       "      <th>6</th>\n",
       "      <td>64</td>\n",
       "      <td>15</td>\n",
       "      <td>1.00</td>\n",
       "      <td>0.178648</td>\n",
       "    </tr>\n",
       "    <tr>\n",
       "      <th>9</th>\n",
       "      <td>64</td>\n",
       "      <td>20</td>\n",
       "      <td>1.00</td>\n",
       "      <td>0.177473</td>\n",
       "    </tr>\n",
       "    <tr>\n",
       "      <th>3</th>\n",
       "      <td>64</td>\n",
       "      <td>10</td>\n",
       "      <td>1.00</td>\n",
       "      <td>0.176885</td>\n",
       "    </tr>\n",
       "  </tbody>\n",
       "</table>\n",
       "</div>"
      ],
      "text/plain": [
       "    factors  iterations  regularization  precision_at_k\n",
       "20      128          10            0.05        0.200196\n",
       "19      128          10            0.25        0.199216\n",
       "21      128          10            1.00        0.198433\n",
       "25      128          20            0.25        0.197160\n",
       "24      128          15            1.00        0.196572\n",
       "26      128          20            0.05        0.196474\n",
       "27      128          20            1.00        0.195788\n",
       "22      128          15            0.25        0.195788\n",
       "11       96          10            0.05        0.193634\n",
       "23      128          15            0.05        0.193242\n",
       "14       96          15            0.05        0.193242\n",
       "16       96          20            0.25        0.192262\n",
       "12       96          10            1.00        0.191381\n",
       "17       96          20            0.05        0.191087\n",
       "13       96          15            0.25        0.190989\n",
       "15       96          15            1.00        0.190402\n",
       "10       96          10            0.25        0.190206\n",
       "18       96          20            1.00        0.188932\n",
       "2        64          10            0.05        0.183448\n",
       "8        64          20            0.05        0.181978\n",
       "7        64          20            0.25        0.181489\n",
       "4        64          15            0.25        0.180705\n",
       "5        64          15            0.05        0.179922\n",
       "1        64          10            0.25        0.179236\n",
       "6        64          15            1.00        0.178648\n",
       "9        64          20            1.00        0.177473\n",
       "3        64          10            1.00        0.176885"
      ]
     },
     "execution_count": 62,
     "metadata": {},
     "output_type": "execute_result"
    }
   ],
   "source": [
    "pd.DataFrame.from_dict(results, orient='index').sort_values(by='precision_at_k', ascending=False)"
   ]
  },
  {
   "cell_type": "code",
   "execution_count": null,
   "metadata": {},
   "outputs": [],
   "source": []
  }
 ],
 "metadata": {
  "colab": {
   "name": "webinar_3.ipynb",
   "provenance": [],
   "toc_visible": true
  },
  "kernelspec": {
   "display_name": "Python 3 (ipykernel)",
   "language": "python",
   "name": "python3"
  },
  "language_info": {
   "codemirror_mode": {
    "name": "ipython",
    "version": 3
   },
   "file_extension": ".py",
   "mimetype": "text/x-python",
   "name": "python",
   "nbconvert_exporter": "python",
   "pygments_lexer": "ipython3",
   "version": "3.8.10"
  }
 },
 "nbformat": 4,
 "nbformat_minor": 1
}
